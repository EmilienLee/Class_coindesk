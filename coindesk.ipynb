{
 "cells": [
  {
   "cell_type": "code",
   "execution_count": 69,
   "metadata": {},
   "outputs": [],
   "source": [
    "import requests"
   ]
  },
  {
   "cell_type": "code",
   "execution_count": 70,
   "metadata": {},
   "outputs": [],
   "source": [
    "URL = \"https://www.coindesk.com\""
   ]
  },
  {
   "cell_type": "code",
   "execution_count": 71,
   "metadata": {},
   "outputs": [],
   "source": [
    "resp = requests.get(URL)"
   ]
  },
  {
   "cell_type": "code",
   "execution_count": 74,
   "metadata": {},
   "outputs": [
    {
     "data": {
      "text/plain": [
       "<Response [200]>"
      ]
     },
     "execution_count": 74,
     "metadata": {},
     "output_type": "execute_result"
    }
   ],
   "source": [
    "resp"
   ]
  },
  {
   "cell_type": "code",
   "execution_count": 4,
   "metadata": {},
   "outputs": [],
   "source": [
    "import re"
   ]
  },
  {
   "cell_type": "markdown",
   "metadata": {},
   "source": [
    "### climb market page"
   ]
  },
  {
   "cell_type": "code",
   "execution_count": 5,
   "metadata": {},
   "outputs": [],
   "source": [
    "def get_list_page(url):\n",
    "    HOST = \"https://www.coindesk.com\"\n",
    "    resp = requests.get(url)\n",
    "    links = re.findall('<a class=\"fade\" href=\"(https://www.coindesk.com/.*)\" title=\".*\">.*</a>', resp.text)    \n",
    "    detail_page_links = [link for link in links]\n",
    "    return detail_page_links"
   ]
  },
  {
   "cell_type": "code",
   "execution_count": 6,
   "metadata": {},
   "outputs": [
    {
     "data": {
      "text/plain": [
       "['https://www.coindesk.com/overstocks-medici-ventures-invests-in-blockchain-voting-startup/',\n",
       " 'https://www.coindesk.com/bitcoin-faces-bearish-move-as-prices-drop-towards-15k/',\n",
       " 'https://www.coindesk.com/weathering-altcoin-shitstorm-investing-next-one/',\n",
       " 'https://www.coindesk.com/anti-virus-token-polyswarm-seeks-safer-internet-50-million-ico/',\n",
       " 'https://www.coindesk.com/2018s-challenge-crypto-assets-really-worth/',\n",
       " 'https://www.coindesk.com/xrp-dichotomy-ripple-price/',\n",
       " 'https://www.coindesk.com/crypto-didnt-give-us-2017/',\n",
       " 'https://www.coindesk.com/long-blockchain-to-enter-bitcoin-mining-after-crypto-pivot-claim/',\n",
       " 'https://www.coindesk.com/ripple-claims-3-money-transfer-firms-xrp-2018/',\n",
       " 'https://www.coindesk.com/ripple-eyes-retreat-after-record-price-highs/']"
      ]
     },
     "execution_count": 6,
     "metadata": {},
     "output_type": "execute_result"
    }
   ],
   "source": [
    "get_list_page(\"https://www.coindesk.com/category/markets-news\")"
   ]
  },
  {
   "cell_type": "code",
   "execution_count": 10,
   "metadata": {},
   "outputs": [],
   "source": [
    "!mkdir /home/ubuntu/bb105/coindesk_data/unclean"
   ]
  },
  {
   "cell_type": "code",
   "execution_count": 30,
   "metadata": {},
   "outputs": [],
   "source": [
    "DATA_PATH = '/home/ubuntu/bb105/coindesk_data/unclean'\n",
    "def dump_page(url):\n",
    "    filename = \"_\".join(url.replace(\"-\",\"_\").split('/')[-3:])\n",
    "    resp = requests.get(url)\n",
    "    with open(DATA_PATH + '/' + filename, 'w') as f:\n",
    "        f.write(resp.text)\n",
    "    return filename"
   ]
  },
  {
   "cell_type": "code",
   "execution_count": 94,
   "metadata": {},
   "outputs": [
    {
     "data": {
      "text/plain": [
       "'www.coindesk.com_category_markets_news'"
      ]
     },
     "execution_count": 94,
     "metadata": {},
     "output_type": "execute_result"
    }
   ],
   "source": [
    "dump_page(\"https://www.coindesk.com/category/markets-news\")"
   ]
  },
  {
   "cell_type": "code",
   "execution_count": 92,
   "metadata": {},
   "outputs": [
    {
     "data": {
      "text/plain": [
       "['https://www.coindesk.com/category/markets-news/page/0',\n",
       " 'https://www.coindesk.com/category/markets-news/page/1',\n",
       " 'https://www.coindesk.com/category/markets-news/page/2',\n",
       " 'https://www.coindesk.com/category/markets-news/page/3',\n",
       " 'https://www.coindesk.com/category/markets-news/page/4',\n",
       " 'https://www.coindesk.com/category/markets-news/page/5',\n",
       " 'https://www.coindesk.com/category/markets-news/page/6',\n",
       " 'https://www.coindesk.com/category/markets-news/page/7',\n",
       " 'https://www.coindesk.com/category/markets-news/page/8',\n",
       " 'https://www.coindesk.com/category/markets-news/page/9']"
      ]
     },
     "execution_count": 92,
     "metadata": {},
     "output_type": "execute_result"
    }
   ],
   "source": [
    "range(1,10)\n",
    "from bs4 import BeautifulSoup\n",
    "urls = \"https://www.coindesk.com/category/markets-news/page/{}\"\n",
    "list=[]\n",
    "for num in range(10): \n",
    "    list.extend([urls.format(num)])\n",
    "list"
   ]
  },
  {
   "cell_type": "code",
   "execution_count": 304,
   "metadata": {
    "scrolled": true
   },
   "outputs": [],
   "source": [
    "range(1,10)\n",
    "urls=\"https://www.coindesk.com/category/markets-news/page/{}\"\n",
    "total_linksss=[]\n",
    "import requests\n",
    "import re\n",
    "from bs4 import BeautifulSoup\n",
    "def get_page_link(url):    \n",
    "    for num in range(1,10): \n",
    "        resp = requests.get(urls.format(num))\n",
    "        links = re.findall('<a class=\"fade\" href=\"(https://www.coindesk.com/.*)\" title=\".*\">.*</a>', resp.text)  \n",
    "        for row in links:\n",
    "            total_linksss.append(row)\n",
    "    return 'list created, please type total_link'"
   ]
  },
  {
   "cell_type": "code",
   "execution_count": 305,
   "metadata": {},
   "outputs": [
    {
     "data": {
      "text/plain": [
       "'list created, please type total_link'"
      ]
     },
     "execution_count": 305,
     "metadata": {},
     "output_type": "execute_result"
    }
   ],
   "source": [
    "get_page_link(\"1\")"
   ]
  },
  {
   "cell_type": "code",
   "execution_count": 161,
   "metadata": {},
   "outputs": [
    {
     "ename": "MissingSchema",
     "evalue": "Invalid URL '1': No schema supplied. Perhaps you meant http://1?",
     "output_type": "error",
     "traceback": [
      "\u001b[0;31m---------------------------------------------------------------------------\u001b[0m",
      "\u001b[0;31mMissingSchema\u001b[0m                             Traceback (most recent call last)",
      "\u001b[0;32m<ipython-input-161-f351089f11ba>\u001b[0m in \u001b[0;36m<module>\u001b[0;34m()\u001b[0m\n\u001b[0;32m----> 1\u001b[0;31m \u001b[0mget_list_page\u001b[0m\u001b[0;34m(\u001b[0m\u001b[0;34m\"1\"\u001b[0m\u001b[0;34m)\u001b[0m\u001b[0;34m\u001b[0m\u001b[0m\n\u001b[0m",
      "\u001b[0;32m<ipython-input-5-fe87beadf4ed>\u001b[0m in \u001b[0;36mget_list_page\u001b[0;34m(url)\u001b[0m\n\u001b[1;32m      1\u001b[0m \u001b[0;32mdef\u001b[0m \u001b[0mget_list_page\u001b[0m\u001b[0;34m(\u001b[0m\u001b[0murl\u001b[0m\u001b[0;34m)\u001b[0m\u001b[0;34m:\u001b[0m\u001b[0;34m\u001b[0m\u001b[0m\n\u001b[1;32m      2\u001b[0m     \u001b[0mHOST\u001b[0m \u001b[0;34m=\u001b[0m \u001b[0;34m\"https://www.coindesk.com\"\u001b[0m\u001b[0;34m\u001b[0m\u001b[0m\n\u001b[0;32m----> 3\u001b[0;31m     \u001b[0mresp\u001b[0m \u001b[0;34m=\u001b[0m \u001b[0mrequests\u001b[0m\u001b[0;34m.\u001b[0m\u001b[0mget\u001b[0m\u001b[0;34m(\u001b[0m\u001b[0murl\u001b[0m\u001b[0;34m)\u001b[0m\u001b[0;34m\u001b[0m\u001b[0m\n\u001b[0m\u001b[1;32m      4\u001b[0m     \u001b[0mlinks\u001b[0m \u001b[0;34m=\u001b[0m \u001b[0mre\u001b[0m\u001b[0;34m.\u001b[0m\u001b[0mfindall\u001b[0m\u001b[0;34m(\u001b[0m\u001b[0;34m'<a class=\"fade\" href=\"(https://www.coindesk.com/.*)\" title=\".*\">.*</a>'\u001b[0m\u001b[0;34m,\u001b[0m \u001b[0mresp\u001b[0m\u001b[0;34m.\u001b[0m\u001b[0mtext\u001b[0m\u001b[0;34m)\u001b[0m\u001b[0;34m\u001b[0m\u001b[0m\n\u001b[1;32m      5\u001b[0m     \u001b[0mdetail_page_links\u001b[0m \u001b[0;34m=\u001b[0m \u001b[0;34m[\u001b[0m\u001b[0mlink\u001b[0m \u001b[0;32mfor\u001b[0m \u001b[0mlink\u001b[0m \u001b[0;32min\u001b[0m \u001b[0mlinks\u001b[0m\u001b[0;34m]\u001b[0m\u001b[0;34m\u001b[0m\u001b[0m\n",
      "\u001b[0;32m~/.pyenv/versions/3.6.1/lib/python3.6/site-packages/requests/api.py\u001b[0m in \u001b[0;36mget\u001b[0;34m(url, params, **kwargs)\u001b[0m\n\u001b[1;32m     70\u001b[0m \u001b[0;34m\u001b[0m\u001b[0m\n\u001b[1;32m     71\u001b[0m     \u001b[0mkwargs\u001b[0m\u001b[0;34m.\u001b[0m\u001b[0msetdefault\u001b[0m\u001b[0;34m(\u001b[0m\u001b[0;34m'allow_redirects'\u001b[0m\u001b[0;34m,\u001b[0m \u001b[0;32mTrue\u001b[0m\u001b[0;34m)\u001b[0m\u001b[0;34m\u001b[0m\u001b[0m\n\u001b[0;32m---> 72\u001b[0;31m     \u001b[0;32mreturn\u001b[0m \u001b[0mrequest\u001b[0m\u001b[0;34m(\u001b[0m\u001b[0;34m'get'\u001b[0m\u001b[0;34m,\u001b[0m \u001b[0murl\u001b[0m\u001b[0;34m,\u001b[0m \u001b[0mparams\u001b[0m\u001b[0;34m=\u001b[0m\u001b[0mparams\u001b[0m\u001b[0;34m,\u001b[0m \u001b[0;34m**\u001b[0m\u001b[0mkwargs\u001b[0m\u001b[0;34m)\u001b[0m\u001b[0;34m\u001b[0m\u001b[0m\n\u001b[0m\u001b[1;32m     73\u001b[0m \u001b[0;34m\u001b[0m\u001b[0m\n\u001b[1;32m     74\u001b[0m \u001b[0;34m\u001b[0m\u001b[0m\n",
      "\u001b[0;32m~/.pyenv/versions/3.6.1/lib/python3.6/site-packages/requests/api.py\u001b[0m in \u001b[0;36mrequest\u001b[0;34m(method, url, **kwargs)\u001b[0m\n\u001b[1;32m     56\u001b[0m     \u001b[0;31m# cases, and look like a memory leak in others.\u001b[0m\u001b[0;34m\u001b[0m\u001b[0;34m\u001b[0m\u001b[0m\n\u001b[1;32m     57\u001b[0m     \u001b[0;32mwith\u001b[0m \u001b[0msessions\u001b[0m\u001b[0;34m.\u001b[0m\u001b[0mSession\u001b[0m\u001b[0;34m(\u001b[0m\u001b[0;34m)\u001b[0m \u001b[0;32mas\u001b[0m \u001b[0msession\u001b[0m\u001b[0;34m:\u001b[0m\u001b[0;34m\u001b[0m\u001b[0m\n\u001b[0;32m---> 58\u001b[0;31m         \u001b[0;32mreturn\u001b[0m \u001b[0msession\u001b[0m\u001b[0;34m.\u001b[0m\u001b[0mrequest\u001b[0m\u001b[0;34m(\u001b[0m\u001b[0mmethod\u001b[0m\u001b[0;34m=\u001b[0m\u001b[0mmethod\u001b[0m\u001b[0;34m,\u001b[0m \u001b[0murl\u001b[0m\u001b[0;34m=\u001b[0m\u001b[0murl\u001b[0m\u001b[0;34m,\u001b[0m \u001b[0;34m**\u001b[0m\u001b[0mkwargs\u001b[0m\u001b[0;34m)\u001b[0m\u001b[0;34m\u001b[0m\u001b[0m\n\u001b[0m\u001b[1;32m     59\u001b[0m \u001b[0;34m\u001b[0m\u001b[0m\n\u001b[1;32m     60\u001b[0m \u001b[0;34m\u001b[0m\u001b[0m\n",
      "\u001b[0;32m~/.pyenv/versions/3.6.1/lib/python3.6/site-packages/requests/sessions.py\u001b[0m in \u001b[0;36mrequest\u001b[0;34m(self, method, url, params, data, headers, cookies, files, auth, timeout, allow_redirects, proxies, hooks, stream, verify, cert, json)\u001b[0m\n\u001b[1;32m    492\u001b[0m             \u001b[0mhooks\u001b[0m\u001b[0;34m=\u001b[0m\u001b[0mhooks\u001b[0m\u001b[0;34m,\u001b[0m\u001b[0;34m\u001b[0m\u001b[0m\n\u001b[1;32m    493\u001b[0m         )\n\u001b[0;32m--> 494\u001b[0;31m         \u001b[0mprep\u001b[0m \u001b[0;34m=\u001b[0m \u001b[0mself\u001b[0m\u001b[0;34m.\u001b[0m\u001b[0mprepare_request\u001b[0m\u001b[0;34m(\u001b[0m\u001b[0mreq\u001b[0m\u001b[0;34m)\u001b[0m\u001b[0;34m\u001b[0m\u001b[0m\n\u001b[0m\u001b[1;32m    495\u001b[0m \u001b[0;34m\u001b[0m\u001b[0m\n\u001b[1;32m    496\u001b[0m         \u001b[0mproxies\u001b[0m \u001b[0;34m=\u001b[0m \u001b[0mproxies\u001b[0m \u001b[0;32mor\u001b[0m \u001b[0;34m{\u001b[0m\u001b[0;34m}\u001b[0m\u001b[0;34m\u001b[0m\u001b[0m\n",
      "\u001b[0;32m~/.pyenv/versions/3.6.1/lib/python3.6/site-packages/requests/sessions.py\u001b[0m in \u001b[0;36mprepare_request\u001b[0;34m(self, request)\u001b[0m\n\u001b[1;32m    435\u001b[0m             \u001b[0mauth\u001b[0m\u001b[0;34m=\u001b[0m\u001b[0mmerge_setting\u001b[0m\u001b[0;34m(\u001b[0m\u001b[0mauth\u001b[0m\u001b[0;34m,\u001b[0m \u001b[0mself\u001b[0m\u001b[0;34m.\u001b[0m\u001b[0mauth\u001b[0m\u001b[0;34m)\u001b[0m\u001b[0;34m,\u001b[0m\u001b[0;34m\u001b[0m\u001b[0m\n\u001b[1;32m    436\u001b[0m             \u001b[0mcookies\u001b[0m\u001b[0;34m=\u001b[0m\u001b[0mmerged_cookies\u001b[0m\u001b[0;34m,\u001b[0m\u001b[0;34m\u001b[0m\u001b[0m\n\u001b[0;32m--> 437\u001b[0;31m             \u001b[0mhooks\u001b[0m\u001b[0;34m=\u001b[0m\u001b[0mmerge_hooks\u001b[0m\u001b[0;34m(\u001b[0m\u001b[0mrequest\u001b[0m\u001b[0;34m.\u001b[0m\u001b[0mhooks\u001b[0m\u001b[0;34m,\u001b[0m \u001b[0mself\u001b[0m\u001b[0;34m.\u001b[0m\u001b[0mhooks\u001b[0m\u001b[0;34m)\u001b[0m\u001b[0;34m,\u001b[0m\u001b[0;34m\u001b[0m\u001b[0m\n\u001b[0m\u001b[1;32m    438\u001b[0m         )\n\u001b[1;32m    439\u001b[0m         \u001b[0;32mreturn\u001b[0m \u001b[0mp\u001b[0m\u001b[0;34m\u001b[0m\u001b[0m\n",
      "\u001b[0;32m~/.pyenv/versions/3.6.1/lib/python3.6/site-packages/requests/models.py\u001b[0m in \u001b[0;36mprepare\u001b[0;34m(self, method, url, headers, files, data, params, auth, cookies, hooks, json)\u001b[0m\n\u001b[1;32m    303\u001b[0m \u001b[0;34m\u001b[0m\u001b[0m\n\u001b[1;32m    304\u001b[0m         \u001b[0mself\u001b[0m\u001b[0;34m.\u001b[0m\u001b[0mprepare_method\u001b[0m\u001b[0;34m(\u001b[0m\u001b[0mmethod\u001b[0m\u001b[0;34m)\u001b[0m\u001b[0;34m\u001b[0m\u001b[0m\n\u001b[0;32m--> 305\u001b[0;31m         \u001b[0mself\u001b[0m\u001b[0;34m.\u001b[0m\u001b[0mprepare_url\u001b[0m\u001b[0;34m(\u001b[0m\u001b[0murl\u001b[0m\u001b[0;34m,\u001b[0m \u001b[0mparams\u001b[0m\u001b[0;34m)\u001b[0m\u001b[0;34m\u001b[0m\u001b[0m\n\u001b[0m\u001b[1;32m    306\u001b[0m         \u001b[0mself\u001b[0m\u001b[0;34m.\u001b[0m\u001b[0mprepare_headers\u001b[0m\u001b[0;34m(\u001b[0m\u001b[0mheaders\u001b[0m\u001b[0;34m)\u001b[0m\u001b[0;34m\u001b[0m\u001b[0m\n\u001b[1;32m    307\u001b[0m         \u001b[0mself\u001b[0m\u001b[0;34m.\u001b[0m\u001b[0mprepare_cookies\u001b[0m\u001b[0;34m(\u001b[0m\u001b[0mcookies\u001b[0m\u001b[0;34m)\u001b[0m\u001b[0;34m\u001b[0m\u001b[0m\n",
      "\u001b[0;32m~/.pyenv/versions/3.6.1/lib/python3.6/site-packages/requests/models.py\u001b[0m in \u001b[0;36mprepare_url\u001b[0;34m(self, url, params)\u001b[0m\n\u001b[1;32m    377\u001b[0m             \u001b[0merror\u001b[0m \u001b[0;34m=\u001b[0m \u001b[0merror\u001b[0m\u001b[0;34m.\u001b[0m\u001b[0mformat\u001b[0m\u001b[0;34m(\u001b[0m\u001b[0mto_native_string\u001b[0m\u001b[0;34m(\u001b[0m\u001b[0murl\u001b[0m\u001b[0;34m,\u001b[0m \u001b[0;34m'utf8'\u001b[0m\u001b[0;34m)\u001b[0m\u001b[0;34m)\u001b[0m\u001b[0;34m\u001b[0m\u001b[0m\n\u001b[1;32m    378\u001b[0m \u001b[0;34m\u001b[0m\u001b[0m\n\u001b[0;32m--> 379\u001b[0;31m             \u001b[0;32mraise\u001b[0m \u001b[0mMissingSchema\u001b[0m\u001b[0;34m(\u001b[0m\u001b[0merror\u001b[0m\u001b[0;34m)\u001b[0m\u001b[0;34m\u001b[0m\u001b[0m\n\u001b[0m\u001b[1;32m    380\u001b[0m \u001b[0;34m\u001b[0m\u001b[0m\n\u001b[1;32m    381\u001b[0m         \u001b[0;32mif\u001b[0m \u001b[0;32mnot\u001b[0m \u001b[0mhost\u001b[0m\u001b[0;34m:\u001b[0m\u001b[0;34m\u001b[0m\u001b[0m\n",
      "\u001b[0;31mMissingSchema\u001b[0m: Invalid URL '1': No schema supplied. Perhaps you meant http://1?"
     ]
    }
   ],
   "source": [
    "get_list_page(\"https://www.coindesk.com/category/markets-news\")"
   ]
  },
  {
   "cell_type": "code",
   "execution_count": 37,
   "metadata": {},
   "outputs": [],
   "source": [
    "import requests"
   ]
  },
  {
   "cell_type": "code",
   "execution_count": 39,
   "metadata": {},
   "outputs": [],
   "source": [
    "r=requests.get(\"https://www.coindesk.com/category/markets-news\")"
   ]
  },
  {
   "cell_type": "code",
   "execution_count": 162,
   "metadata": {},
   "outputs": [
    {
     "data": {
      "text/plain": [
       "'list created, please type total_links'"
      ]
     },
     "execution_count": 162,
     "metadata": {},
     "output_type": "execute_result"
    }
   ],
   "source": [
    "get_page_link('1')"
   ]
  },
  {
   "cell_type": "code",
   "execution_count": 91,
   "metadata": {},
   "outputs": [],
   "source": [
    "range(1,10)\n",
    "total_link=[]\n",
    "import requests\n",
    "import re\n",
    "def get_page_link(url):\n",
    "    a=url+\"/\"+\"page/{}\"   \n",
    "    for num in range(1,10): \n",
    "        resp = requests.get(a.format(num))\n",
    "        links = re.findall('<a class=\"fade\" href=\"(https://www.coindesk.com/.*)\" title=\".*\">.*</a>', resp.text)  \n",
    "        for row in links:\n",
    "            total_link.append(row)\n",
    "    return 'list created, please type total_link'"
   ]
  },
  {
   "cell_type": "code",
   "execution_count": 92,
   "metadata": {},
   "outputs": [
    {
     "data": {
      "text/plain": [
       "'list created, please type total_link'"
      ]
     },
     "execution_count": 92,
     "metadata": {},
     "output_type": "execute_result"
    }
   ],
   "source": [
    "get_page_link(\"https://www.coindesk.com/category/markets-news\")"
   ]
  },
  {
   "cell_type": "code",
   "execution_count": 93,
   "metadata": {},
   "outputs": [
    {
     "data": {
      "text/plain": [
       "['https://www.coindesk.com/defying-wider-market-downtrend-bitcoin-cash-eyes-3k/',\n",
       " 'https://www.coindesk.com/korean-official-cryptocurrency-exchange-ban-not-finalized/',\n",
       " 'https://www.coindesk.com/bitcoin-price-stays-heavy-amid-korean-regulatory-reports/',\n",
       " 'https://www.coindesk.com/south-korea-reportedly-expands-crackdown-bitcoin-exchanges/',\n",
       " 'https://www.coindesk.com/kodaks-cryptocurrency-already-presold/',\n",
       " 'https://www.coindesk.com/warren-buffett-cryptocurrencies-will-come-to-a-bad-ending/',\n",
       " 'https://www.coindesk.com/down-but-not-out-ripple-bulls-may-regain-the-upper-hand/',\n",
       " 'https://www.coindesk.com/coinbase-massive-buy-demand-caused-bitcoin-cash-launch-hiccups/',\n",
       " 'https://www.coindesk.com/goodbye-icos-hello-taos-tokens-will-change-2018/',\n",
       " 'https://www.coindesk.com/downside-exposed-bitcoin-continues-slide-to-below-14k/',\n",
       " 'https://www.coindesk.com/beyond-red-tape-path-ahead-token-sales/',\n",
       " 'https://www.coindesk.com/telegrams-1-2-billion-ico-ambitious-token-sale-yet/',\n",
       " 'https://www.coindesk.com/ether-bucks-bearish-trend-to-hold-above-1200/',\n",
       " 'https://www.coindesk.com/jamie-dimon-says-he-regrets-calling-bitcoin-a-fraud/',\n",
       " 'https://www.coindesk.com/35-million-smart-contracts-platform-mobius-completes-ico-presale/',\n",
       " 'https://www.coindesk.com/15000-bitcoin-defensive-bear-grip-strengthens/',\n",
       " 'https://www.coindesk.com/td-ameritrade-bitcoin-great-opportunity-to-get-millennials-trading/',\n",
       " 'https://www.coindesk.com/overstocks-medici-ventures-invests-in-blockchain-voting-startup/',\n",
       " 'https://www.coindesk.com/bitcoin-faces-bearish-move-as-prices-drop-towards-15k/',\n",
       " 'https://www.coindesk.com/weathering-altcoin-shitstorm-investing-next-one/',\n",
       " 'https://www.coindesk.com/anti-virus-token-polyswarm-seeks-safer-internet-50-million-ico/',\n",
       " 'https://www.coindesk.com/2018s-challenge-crypto-assets-really-worth/',\n",
       " 'https://www.coindesk.com/xrp-dichotomy-ripple-price/',\n",
       " 'https://www.coindesk.com/crypto-didnt-give-us-2017/',\n",
       " 'https://www.coindesk.com/long-blockchain-to-enter-bitcoin-mining-after-crypto-pivot-claim/',\n",
       " 'https://www.coindesk.com/ripple-claims-3-money-transfer-firms-xrp-2018/',\n",
       " 'https://www.coindesk.com/ripple-eyes-retreat-after-record-price-highs/',\n",
       " 'https://www.coindesk.com/james-altucher-raising-10-million-coinbase-competitor/',\n",
       " 'https://www.coindesk.com/off-the-leash-bitcoin-looks-north-after-breaking-16k/',\n",
       " 'https://www.coindesk.com/icos-tech-standards/',\n",
       " 'https://www.coindesk.com/dogecoin-market-cap-hits-1-billion-creators-dismay/',\n",
       " 'https://www.coindesk.com/no-new-crypto-coinbase-squashes-exchange-listing-rumors/',\n",
       " 'https://www.coindesk.com/100-billion-controversy-xrps-surge-raises-hard-questions-ripple/',\n",
       " 'https://www.coindesk.com/vr-penny-stock-200-crypto-business-pivot/',\n",
       " 'https://www.coindesk.com/xrp-fever-crypto-assets-outpacing-2018-gains/',\n",
       " 'https://www.coindesk.com/ether-hits-psychological-milestone-of-1000/',\n",
       " 'https://www.coindesk.com/1k-next-ether-price-climbs-to-new-record-high/',\n",
       " 'https://www.coindesk.com/not-bitcoin-holds-onto-bullish-territory/',\n",
       " 'https://www.coindesk.com/merrill-lynch-bans-clients-from-investing-in-bitcoin-fund/',\n",
       " 'https://www.coindesk.com/japan-new-heart-bitcoin/',\n",
       " 'https://www.coindesk.com/2017s-crypto-revolution-just-beginning/',\n",
       " 'https://www.coindesk.com/sec-publishes-cboe-etf-filing-for-public-comment/',\n",
       " 'https://www.coindesk.com/crypto-blockchain-create-10-trillion-market-rbc-analyst-says/',\n",
       " 'https://www.coindesk.com/ripples-xrp-token-hits-time-high-3/',\n",
       " 'https://www.coindesk.com/bitcoin-cash-is-up-but-correction-may-be-on-cards/',\n",
       " 'https://www.coindesk.com/bitcoin-eyes-18000-as-tide-turns-in-bulls-favor/',\n",
       " 'https://www.coindesk.com/wealth-effect-from-bitcoin-trading-could-boost-japans-gdp-say-analysts/',\n",
       " 'https://www.coindesk.com/e-trade-financial-launches-cme-bitcoin-futures-trading/',\n",
       " 'https://www.coindesk.com/video-two-bubbles-shapeshift-ceo-talks-crypto-asset-prices/',\n",
       " 'https://www.coindesk.com/video-1-million-bitcoin-sign-guy-not-late-buy/',\n",
       " 'https://www.coindesk.com/report-founders-fund-boasts-hundred-million-dollar-return-with-bitcoin-bet/',\n",
       " 'https://www.coindesk.com/crypto-market-cap-sets-time-high-bitcoin-share-drops-historic-low/',\n",
       " 'https://www.coindesk.com/south-korea-sets-date-for-anonymous-crypto-trading-ban-report/',\n",
       " 'https://www.coindesk.com/over-900-ether-starts-2018-at-all-time-price-high/',\n",
       " 'https://www.coindesk.com/cryptocurrency-icos-what-do-we-do-with-all-this-money/',\n",
       " 'https://www.coindesk.com/video-bitcoin-sign-guy-tells-infamous-janet-yellen-photobomb/',\n",
       " 'https://www.coindesk.com/dao-who-a-recap-of-ethers-2017-price-climb/',\n",
       " 'https://www.coindesk.com/2017-year-crypto-became-new-asset-class/',\n",
       " 'https://www.coindesk.com/avoiding-digital-feudalism-built-blockchains/',\n",
       " 'https://www.coindesk.com/ripple-now-the-third-largest-crypto-by-market-cap-after-price-rally/',\n",
       " 'https://www.coindesk.com/bitcoin-blockchain-bet-will-thrive-2018/',\n",
       " 'https://www.coindesk.com/icos-beauty-beast-jfk/',\n",
       " 'https://www.coindesk.com/growing-greed-crypto-looks-lot-like-wall-street/',\n",
       " 'https://www.coindesk.com/death-ico-4-2018-predictions/',\n",
       " 'https://www.coindesk.com/comes-futures-next-chapter-bitcoin/',\n",
       " 'https://www.coindesk.com/defining-word-tokens-2018/',\n",
       " 'https://www.coindesk.com/crypto-assets-trending-amid-todays-drop/',\n",
       " 'https://www.coindesk.com/cleaning-crypto-markets-job-2018/',\n",
       " 'https://www.coindesk.com/30-dropping-charting-ongoing-crypto-bitcoin-ether-xrp-price-correction/',\n",
       " 'https://www.coindesk.com/futures-firm-cboe-filed-for-6-bitcoin-etfs-this-week/',\n",
       " 'https://www.coindesk.com/crypto-market-sheds-billions-top-100-assets-sharply/',\n",
       " 'https://www.coindesk.com/buying-bitcoin-investment-funds-will-blockchain/',\n",
       " 'https://www.coindesk.com/comes-cryptos-summer-love/',\n",
       " 'https://www.coindesk.com/bitcoin-dropped-22-5-to-weekly-low-from-all-time-high/',\n",
       " 'https://www.coindesk.com/finra-beware-public-stocks-tout-cryptocurrency-connection/',\n",
       " 'https://www.coindesk.com/top-20-cryptocurrencies-hit-record-highs-week/',\n",
       " 'https://www.coindesk.com/2017-saluting-shakespearean-shitcoin-drama/',\n",
       " 'https://www.coindesk.com/ripple-price-passes-historic-1-milestone/',\n",
       " 'https://www.coindesk.com/coinbases-bitcoin-cash-market-back-online/',\n",
       " 'https://www.coindesk.com/ron-paul-fed-led-quantitative-easing-sparked-cryptocurrency-surge/',\n",
       " 'https://www.coindesk.com/cryptocurrency-hedge-fund-hit-class-action-lawsuit/',\n",
       " 'https://www.coindesk.com/ice-exchange-unit-seeking-to-list-bitcoin-futures-etf/',\n",
       " 'https://www.coindesk.com/waiting-game-bitcoin-cash-at-record-high-ahead-of-coinbase-relaunch/',\n",
       " 'https://www.coindesk.com/litecoin-creator-sells-off-holdings-citing-conflict-interest/',\n",
       " 'https://www.coindesk.com/coinbase-probe-insider-trading-breach-bitcoin-cash-listing/',\n",
       " 'https://www.coindesk.com/low-can-bitcoin-go-charts-hint-11k-might-play/',\n",
       " 'https://www.coindesk.com/morgan-stanley-hedge-funds-poured-2-billion-into-cryptos-in-2017/',\n",
       " 'https://www.coindesk.com/2017-tapscott-prediction-scorecard/',\n",
       " 'https://www.coindesk.com/coinbase-halts-bitcoin-cash-trading-abruptly-exchange-launch/',\n",
       " 'https://www.coindesk.com/300-million-lockup-storj-clarifies-token-economics-surprise-reveal/']"
      ]
     },
     "execution_count": 93,
     "metadata": {},
     "output_type": "execute_result"
    }
   ],
   "source": [
    "total_link"
   ]
  },
  {
   "cell_type": "code",
   "execution_count": 94,
   "metadata": {},
   "outputs": [],
   "source": [
    "DATA_PATH = '/home/ubuntu/bb105/coindesk_data/unclean'\n",
    "filename_list=[]\n",
    "def dump_page(url):\n",
    "    filename = \"\".join(url.replace(\"-\",\"_\").replace(\".\",\"_\").split('/')[-2])\n",
    "    filename_list.append(filename)\n",
    "    resp = requests.get(url)\n",
    "    with open(DATA_PATH + '/' + filename, 'w') as f:\n",
    "        f.write(resp.text)\n",
    "    return filename"
   ]
  },
  {
   "cell_type": "code",
   "execution_count": 95,
   "metadata": {},
   "outputs": [],
   "source": [
    "for url in total_link:\n",
    "    dump_page(url)"
   ]
  },
  {
   "cell_type": "code",
   "execution_count": 96,
   "metadata": {},
   "outputs": [],
   "source": [
    "from bs4 import BeautifulSoup\n",
    "import datetime\n",
    "import bs4\n",
    "data = {}\n",
    "res = []\n",
    "UTC = datetime.timezone(datetime.timedelta(hours=0))\n",
    "total_data={}\n",
    "counter = {}\n",
    "UNCLEAN_DATA_PATH='/home/ubuntu/bb105/coindesk_data/unclean'\n",
    "CLEAN_DATA_PATH='/home/ubuntu/bb105/coindesk_data/clean'\n",
    "def get_detail_and_save(filename):\n",
    "    with open(UNCLEAN_DATA_PATH + \"/\" + filename) as f:\n",
    "        html = f.read()\n",
    "        soup = BeautifulSoup(html, 'lxml')\n",
    "        content = soup.select_one('div.article-content-container')\n",
    "        data['title'] = soup.select_one(\"h3.article-top-title\").text.strip()\n",
    "        data['author'] = soup.select_one(\"a.article-container-lab-name\").text.strip()\n",
    "        t_str = soup.select_one(\"span.article-container-left-timestamp\").text.strip()\n",
    "        data['tstamp'] = datetime.datetime.strptime(t_str, \"%b %d, %Y at %H:%M UTC\").replace(tzinfo=UTC)\n",
    "        for ch in content.children:\n",
    "            if isinstance(ch, bs4.element.NavigableString):\n",
    "                continue\n",
    "            elif ch.name == 'script':\n",
    "                continue\n",
    "            else:\n",
    "                res.append(ch.text)\n",
    "        data['content']=''.join(res).strip().lower().replace(':', '').replace('\\xa0',' ').replace('.', '').replace(',', '').replace(\"?\",'')\n",
    "        for word in data['content'].split():\n",
    "            word = word\n",
    "            if word in counter:\n",
    "                counter[word] += 1\n",
    "            else:\n",
    "                counter[word] = 1\n",
    "        import json\n",
    "        with open(CLEAN_DATA_PATH + '/' + 'Clean_'+ filename , 'w') as f:\n",
    "            f.write(json.dumps(counter))\n",
    "        return 'write finish'"
   ]
  },
  {
   "cell_type": "code",
   "execution_count": 105,
   "metadata": {},
   "outputs": [],
   "source": [
    "from bs4 import BeautifulSoup\n",
    "import datetime\n",
    "import bs4\n",
    "data = {}\n",
    "res = []\n",
    "UTC = datetime.timezone(datetime.timedelta(hours=0))\n",
    "total_data={}\n",
    "counter = {}\n",
    "UNCLEAN_DATA_PATH='/home/ubuntu/bb105/coindesk_data/unclean'\n",
    "CLEAN_DATA_PATH='/home/ubuntu/bb105/coindesk_data/clean'\n",
    "def get_detail_and_save(filename):\n",
    "    with open(UNCLEAN_DATA_PATH + \"/\" + filename) as f:\n",
    "        html = f.read()\n",
    "        soup = BeautifulSoup(html, 'lxml')\n",
    "        content = soup.select_one('div.article-content-container')\n",
    "        data['title'] = soup.select_one(\"h3.article-top-title\").text.strip()\n",
    "        data['author'] = soup.select_one(\"a.article-container-lab-name\").text.strip()\n",
    "        t_str = soup.select_one(\"span.article-container-left-timestamp\").text.strip()\n",
    "        data['tstamp'] = datetime.datetime.strptime(t_str, \"%b %d, %Y at %H:%M UTC\").replace(tzinfo=UTC)\n",
    "        for ch in content.children:\n",
    "            if isinstance(ch, bs4.element.NavigableString):\n",
    "                continue\n",
    "            elif ch.name == 'script':\n",
    "                continue\n",
    "            else:\n",
    "                res.append(ch.text)\n",
    "        data['content']=''.join(res).strip().lower().replace(':', '').replace('\\xa0',' ').replace('.', '').replace(',', '').replace(\"?\",'')\n",
    "        for word in data['content'].split():\n",
    "            word = word\n",
    "            if word in counter:\n",
    "                counter[word] += 1\n",
    "            else:\n",
    "                counter[word] = 1\n",
    "        import json\n",
    "        with open(CLEAN_DATA_PATH + '/' + 'Clean_'+ filename , 'w') as f:\n",
    "            f.write(json.dumps(counter))\n",
    "        return 'write finish'"
   ]
  },
  {
   "cell_type": "code",
   "execution_count": 114,
   "metadata": {
    "scrolled": true
   },
   "outputs": [],
   "source": [
    "import os\n",
    "fileslist=[]\n",
    "def get_file_in_folder(filepath):\n",
    "    from os.path import join\n",
    "    for f in os.listdir(filepath):\n",
    "        fullpath=join(filepath,f)\n",
    "        if os.path.isfile(fullpath):\n",
    "            fileslist.append(f)\n",
    "    return 'fileslist get, type \"fileslist\" to check '"
   ]
  },
  {
   "cell_type": "code",
   "execution_count": 115,
   "metadata": {},
   "outputs": [
    {
     "data": {
      "text/plain": [
       "'fileslist get, type \"fileslist\" to check '"
      ]
     },
     "execution_count": 115,
     "metadata": {},
     "output_type": "execute_result"
    }
   ],
   "source": [
    "get_file_in_folder(UNCLEAN_DATA_PATH)"
   ]
  },
  {
   "cell_type": "code",
   "execution_count": 116,
   "metadata": {},
   "outputs": [
    {
     "data": {
      "text/plain": [
       "['no_new_crypto_coinbase_squashes_exchange_listing_rumors',\n",
       " 'ice_exchange_unit_seeking_to_list_bitcoin_futures_etf',\n",
       " 'ether_bucks_bearish_trend_to_hold_above_1200',\n",
       " 'anti_virus_token_polyswarm_seeks_safer_internet_50_million_ico',\n",
       " 'comes_cryptos_summer_love',\n",
       " 'ron_paul_fed_led_quantitative_easing_sparked_cryptocurrency_surge',\n",
       " 'ether_hits_psychological_milestone_of_1000',\n",
       " 'japan_new_heart_bitcoin',\n",
       " 'over_900_ether_starts_2018_at_all_time_price_high',\n",
       " 'coinbase_massive_buy_demand_caused_bitcoin_cash_launch_hiccups',\n",
       " 'down_but_not_out_ripple_bulls_may_regain_the_upper_hand',\n",
       " 'low_can_bitcoin_go_charts_hint_11k_might_play',\n",
       " 'crypto_market_cap_sets_time_high_bitcoin_share_drops_historic_low',\n",
       " 'weathering_altcoin_shitstorm_investing_next_one',\n",
       " 'video_two_bubbles_shapeshift_ceo_talks_crypto_asset_prices',\n",
       " '2017_saluting_shakespearean_shitcoin_drama',\n",
       " 'downside_exposed_bitcoin_continues_slide_to_below_14k',\n",
       " 'off_the_leash_bitcoin_looks_north_after_breaking_16k',\n",
       " 'long_blockchain_to_enter_bitcoin_mining_after_crypto_pivot_claim',\n",
       " 'wealth_effect_from_bitcoin_trading_could_boost_japans_gdp_say_analysts',\n",
       " 'crypto_market_sheds_billions_top_100_assets_sharply',\n",
       " 'report_founders_fund_boasts_hundred_million_dollar_return_with_bitcoin_bet',\n",
       " 'coinbases_bitcoin_cash_market_back_online',\n",
       " '2017s_crypto_revolution_just_beginning',\n",
       " 'icos_beauty_beast_jfk',\n",
       " 'korean_official_cryptocurrency_exchange_ban_not_finalized',\n",
       " 'dao_who_a_recap_of_ethers_2017_price_climb',\n",
       " 'south_korea_reportedly_expands_crackdown_bitcoin_exchanges',\n",
       " '15000_bitcoin_defensive_bear_grip_strengthens',\n",
       " 'bitcoin_cash_is_up_but_correction_may_be_on_cards',\n",
       " 'decentralized_token_exchange_radar_relay_raises_3_million',\n",
       " 'ripple_eyes_retreat_after_record_price_highs',\n",
       " 'growing_greed_crypto_looks_lot_like_wall_street',\n",
       " 'ripple_claims_3_money_transfer_firms_xrp_2018',\n",
       " '300_million_lockup_storj_clarifies_token_economics_surprise_reveal',\n",
       " 'crypto_blockchain_create_10_trillion_market_rbc_analyst_says',\n",
       " 'bitcoin_price_stays_heavy_amid_korean_regulatory_reports',\n",
       " 'litecoin_creator_sells_off_holdings_citing_conflict_interest',\n",
       " '2018s_challenge_crypto_assets_really_worth',\n",
       " 'not_bitcoin_holds_onto_bullish_territory',\n",
       " 'top_20_cryptocurrencies_hit_record_highs_week',\n",
       " 'ripples_xrp_token_hits_time_high_3',\n",
       " 'jamie_dimon_says_he_regrets_calling_bitcoin_a_fraud',\n",
       " 'merrill_lynch_bans_clients_from_investing_in_bitcoin_fund',\n",
       " 'xrp_dichotomy_ripple_price',\n",
       " 'overstocks_medici_ventures_invests_in_blockchain_voting_startup',\n",
       " 'video_1_million_bitcoin_sign_guy_not_late_buy',\n",
       " 'beyond_red_tape_path_ahead_token_sales',\n",
       " '1k_next_ether_price_climbs_to_new_record_high',\n",
       " 'xrp_fever_crypto_assets_outpacing_2018_gains',\n",
       " 'bitcoin_dropped_22_5_to_weekly_low_from_all_time_high',\n",
       " 'icos_tech_standards',\n",
       " 'sec_publishes_cboe_etf_filing_for_public_comment',\n",
       " 'cleaning_crypto_markets_job_2018',\n",
       " 'augurs_rep_token_shoots_above_100',\n",
       " 'bitcoin_eyes_18000_as_tide_turns_in_bulls_favor',\n",
       " 'td_ameritrade_bitcoin_great_opportunity_to_get_millennials_trading',\n",
       " '2017_year_crypto_became_new_asset_class',\n",
       " 'cryptocurrency_hedge_fund_hit_class_action_lawsuit',\n",
       " 'south_korea_sets_date_for_anonymous_crypto_trading_ban_report',\n",
       " 'crypto_assets_trending_amid_todays_drop',\n",
       " '35_million_smart_contracts_platform_mobius_completes_ico_presale',\n",
       " 'ripple_price_passes_historic_1_milestone',\n",
       " 'dogecoin_market_cap_hits_1_billion_creators_dismay',\n",
       " 'waiting_game_bitcoin_cash_at_record_high_ahead_of_coinbase_relaunch',\n",
       " 'vr_penny_stock_200_crypto_business_pivot',\n",
       " 'coinbase_halts_bitcoin_cash_trading_abruptly_exchange_launch',\n",
       " 'ripple_now_the_third_largest_crypto_by_market_cap_after_price_rally',\n",
       " 'james_altucher_raising_10_million_coinbase_competitor',\n",
       " '2017_tapscott_prediction_scorecard',\n",
       " 'video_bitcoin_sign_guy_tells_infamous_janet_yellen_photobomb',\n",
       " 'e_trade_financial_launches_cme_bitcoin_futures_trading',\n",
       " 'bitcoin_blockchain_bet_will_thrive_2018',\n",
       " 'defying_wider_market_downtrend_bitcoin_cash_eyes_3k',\n",
       " 'death_ico_4_2018_predictions',\n",
       " 'coinbase_probe_insider_trading_breach_bitcoin_cash_listing',\n",
       " 'comes_futures_next_chapter_bitcoin',\n",
       " 'finra_beware_public_stocks_tout_cryptocurrency_connection',\n",
       " '100_billion_controversy_xrps_surge_raises_hard_questions_ripple',\n",
       " 'telegrams_1_2_billion_ico_ambitious_token_sale_yet',\n",
       " 'buying_bitcoin_investment_funds_will_blockchain',\n",
       " 'avoiding_digital_feudalism_built_blockchains',\n",
       " 'goodbye_icos_hello_taos_tokens_will_change_2018',\n",
       " 'bitcoin_faces_bearish_move_as_prices_drop_towards_15k',\n",
       " 'defining_word_tokens_2018',\n",
       " '17k_breached_bitcoin_price_now_down_15_from_all_time_high',\n",
       " 'warren_buffett_cryptocurrencies_will_come_to_a_bad_ending',\n",
       " 'morgan_stanley_hedge_funds_poured_2_billion_into_cryptos_in_2017',\n",
       " 'kodaks_cryptocurrency_already_presold',\n",
       " '30_dropping_charting_ongoing_crypto_bitcoin_ether_xrp_price_correction',\n",
       " 'cryptocurrency_icos_what_do_we_do_with_all_this_money',\n",
       " 'crypto_didnt_give_us_2017',\n",
       " 'futures_firm_cboe_filed_for_6_bitcoin_etfs_this_week']"
      ]
     },
     "execution_count": 116,
     "metadata": {},
     "output_type": "execute_result"
    }
   ],
   "source": [
    "fileslist"
   ]
  },
  {
   "cell_type": "code",
   "execution_count": 117,
   "metadata": {},
   "outputs": [],
   "source": [
    "for file in fileslist:\n",
    "    get_detail_and_save(file)"
   ]
  },
  {
   "cell_type": "code",
   "execution_count": 107,
   "metadata": {},
   "outputs": [
    {
     "data": {
      "text/plain": [
       "'write finish'"
      ]
     },
     "execution_count": 107,
     "metadata": {},
     "output_type": "execute_result"
    }
   ],
   "source": [
    "get_detail_and_save('video_two_bubbles_shapeshift_ceo_talks_crypto_asset_prices')"
   ]
  },
  {
   "cell_type": "code",
   "execution_count": 43,
   "metadata": {},
   "outputs": [
    {
     "data": {
      "text/plain": [
       "{'author': 'Brendan Bernstein',\n",
       " 'content': 'coinbase announced thursday afternoon that for now it would not be adding any new cryptocurrencies to either its flagship platform or its other digital asset exchange gdaxin a blog post the company which currently allows customers to buy sell deposit or withdraw bitcoin litecoin ethereum and most recently bitcoin cash said it wanted to explain its process for adding new assetsthe post cited last year’s digital asset framework announcement where gdax outlined the criteria it would follow when considering whether to add a new token or coin to its exchange the company then stated“as of the date of this statement we have made no decision to add additional assets to either gdax or coinbase any statement to the contrary is untrue and not authorized by the company” \\nthe update follows rumors that the exchange would add ripple’s xrp token and marks the first statement coinbase made on the matterover the last few weeks xrp has been on a run hitting an all-time high of $384 on thursday according to data site coinmarketcap just three weeks ago the token was trading for less than a dollarxrp fell on thursday to $352 at press time but maintains its position as the world’s second-largest cryptocurrency by market capdeflated ball image via shutterstock\\nthe leader in blockchain news coindesk is an independent media outlet that strives for the highest journalistic standards and abides by a strict set of editorial policies have breaking news or a story tip to send to our journalists contact us at news@coindeskcom\\ndisclaimer this article should not be taken as and is not intended to provide investment advice please conduct your own thorough research before investing in any cryptocurrency\\n\\nnyse arca has filed with the us securities and exchange commission (sec) for a proposed rule change that would allow for the listing of two exchange-traded funds tied to bitcoin futurespublic records dated dec 19 show that the company wants to list two etfs – the proshares bitcoin etf and the proshares short etf – that were originally proposed in september according to the document nyse arca which is owned by intercontinental exchange (ice) submitted the proposed rule change on dec 4as indicated in the filing the etfs would track two recently launched futures contracts released in the past week and a half by cboe and later cme group\"according to the registration statement the investment objective of the fund is to seek results (before fees and expenses) that both for a single day and over time correspond to the performance of lead month bitcoin futures contracts listed and traded on either [cboe] or [cme]\" the company wrote the filing is a notable one given the recent momentum behind financial products connected to the cryptocurrency market while the past few months have seen several filings with the sec related to cryptocurrency-tied etfs nyse arca\\'s submission suggests that at least some of those proposed products are entering the agency\\'s formal approval stagenyse arca previously sought to list an etf from startup solidx but the sec denied the proposed rule change in march of this yearthat move closely followed the rejection of another etf proposed by investors cameron and tyler winklevoss though in that case the sec has since begun a review of that decision following a request from the bats bzx exchangedisclosure cme group is an investor in digital currency group coindesk\\'s parent company market data image via shutterstock\\nthe leader in blockchain news coindesk is an independent media outlet that strives for the highest journalistic standards and abides by a strict set of editorial policies have breaking news or a story tip to send to our journalists contact us at news@coindeskcom\\ndisclaimer this article should not be taken as and is not intended to provide investment advice please conduct your own thorough research before investing in any cryptocurrency\\n\\nthe price of ether the native token of the ethereum platform is bucking the bearish trend seen in top 10 cryptocurrencies by market capitalizationas per data source onchainfx ether (eth) has appreciated by 744 percent in the last 24 hours meanwhile bitcoin litecoin stellar lumens and dash are down at least 3 percent each tron is down 11 percent while ripple (xrp) has depreciated by 89 percent on the day as of writing eth is trading at $123234 levelshowever as coindesk reported today ethereum\\'s recent price rises are masking technical problems related to some blockchain operations issues that could hinder growth if not resolvedalso as per coinmarketcap trading volumes almost doubled to $845 billion yesterday from the jan 4 volume of $46 billion the 24-hour trading volume stands at $766 billion a high volume rally indicates strong hands are at play despite being well bid eth is still down 425 percent from a record $1267 set yesterday and while there is no reason to panic the technical chart does show early signs of bull market exhaustionether chartthe above chart (prices as per coinbase) shows\\nspinning top candle yesterday\\'s spinning top candle shows indecision in the marketplace or bull market exhaustion\\n5-day and 10-day moving averages (ma) continue to slope upwards in favor of the bulls\\nthe relative strength index (rsi) shows overbought conditions\\nview\\na close (as per utc) below $111830 (sunday\\'s high) would confirm spinning top bearish reversal and could yield a short-term pullback to sub-$1000 levels\\nthe upward sloping 10-day ma indicates dips could be short-lived\\nif prices see a sustained move above the previous day\\'s high of $1228 the big level to watch out for is $1664 (2618 percent fibonacci extension)\\nhot-air balloons image via shutterstock\\nthe leader in blockchain news coindesk is an independent media outlet that strives for the highest journalistic standards and abides by a strict set of editorial policies interested in offering your expertise or insights to our reporting contact us at news@coindeskcom\\ndisclaimer this article should not be taken as and is not intended to provide investment advice please conduct your own thorough research before investing in any cryptocurrency\\n\\nthere\\'s never enough eyes out there looking for threats against internet userstake the recently disclosed specter and meltdown processor vulnerabilities which showed how threats can linger for years undetected though as much as such giant engineering failures get attention each of us is more likely to be hit by smaller threats such as an email trick or an attachment loaded with malicious linksbut for swarm technologies there is a lack of incentives for security experts to look as widely as they couldspinning out of the security firm narf industries which recently completed a blockchain identity management project for the us department of homeland security swarm technologies believes a crypto token could be a way to close gaps in software more quickly as such on sunday night the company announced that it will be running an initial coin offering (ico) for the purpose of enlisting security researchers across the globe in creating a safer internet proceeds raised during the $50 million token sale which starts february 6 will initially go to building out a platform called polyswarm the hub where swarm hopes security researchers will come together to work on what it calls \"micro-engines\" specialized software built to scan documents files and websites that might hide vulnerabilitiesit\\'s becoming a common application of blockchains this use of a limited data set to galvanize distributed communities toward goals according to bassi augur the ethereum prediction market was of particular inspiration but while augur harnesses the wisdom of the crowd to predict outcomes polyswarm wants only to incentivize expertsbut to understand the company\\'s mission it\\'s helpful to understand how threat detection works today where enterprise companies do scans to check for threats when web users do anything from click on a url to open an emailto do this more effectively swarm is looking to enlist enterprise it teams and antivirus software companies that spot new files new software new documents that need to be scanned to farm out those scans to a distributed network of researchers those researchers will build machines to do specific scans and each time they do swarm will reward the machines by sending them the tokenand in bassi\\'s mind this use case will flip cryptocurrency’s role as it relates to security – from paying the ransom on encryption attacks to one that makes developing solutions for more niche areas of the internet viablebassi told coindesk\"we’re basically trying to re-invent threat intelligence\"security nectarthreat intelligence with added economics is another way to put itswarm\\'s token or \"nectar\" will have a finite supply 70 percent of which will be sold during the ico the company itself will keep 15 percent of the tokens and the other 15 percent will be used to grow the network including strategic allocations to potential security industry partnersthe company is capping the sale at $50 million with a $5 million pre-sale down the road swarm envisions new business lines in assurance services such as verification of security experts analysis and insuranceas an erc-20 token riding on the ethereum blockchain bassi said smart contracts are at the core of what will make the offering succeed the nectar tokens will be used to make all the payments on the platform but those payments don\\'t just flow from swarm to the researchers the system also requires micro-engines to stake an amount of nectar tokens on its assessment of the digital products it\\'s scanning\"the tokens they have to put into their assertion also indicates their confidence in that assertion\" bassi told coindeskevery micro-engine (and in turn the researcher who built it) that makes the correct assessment gets a share of the fee paid for the scan plus a share of any nectar that was staked by micro-engines that assessed the digital product incorrectlyand according to bassi this mechanism of shared rewards incentivizes researchers to find niche areas to scan where many other researchers might not be lookingthis is particularly novel in that today\\'s anti-virus company structures incentivize chasing threats against the most widely used software in an effort to attract the largest possible client basehe told coindesk\"it provides more incentives to cover the minority populations that are getting hit hard with this stuff\"and yet swarm isn\\'t out to totally disrupt the incumbents such as norton and mcafee in the space instead bassi said those companies could serve as what polyswarm calls \"ambassadors\" actually managing the relationship with consumers while polyswarm enables them to guard against more threat surfaceblockchain criticsyet for some adding a blockchain to this industry isn\\'t going to solve the problemsaccording to jessy irwin a security consultant and an alum of agilebits the developer of one of the leading password managers 1password \"i don\\'t see a clear or realistic incentive to adding a blockchain to this particular problem\"irwin continued arguing that threat intelligence is already distributed and collaborative\"malware hunters and researchers are very much widely distributed in many different kinds of organizations\" she said \"the people working on these issues are highly collaborative with one another while they are working on specific projects and campaigns\"yet while irwin is skeptical other well-known security researchers seem to see value in the platform swarm\\'s advisers on the project include dan guido ceo of trail of bits a security firm that’s a member of the enterprise ethereum alliance and mark tonnesen whose done executive stints at cisco and mcafeeaccording to bassi \"a token is critical to that because up until a few years ago we didn’t have a way to move rewards across borders in sub-cent amounts without involving the global banking infrastructure\"as guido told coindesk \"they\\'re security engineers who found a new way to solve an old problem with blockchain technology if another tool fit they job then that\\'s what they would be using\"but bassi\\'s convinced that smart contracts are the right tool to get more eyes on threats\"it encourages the use of a utility token for a service that’s deeply needed\"safety deposit boxes via shutterstock\\nthe leader in blockchain news coindesk is an independent media outlet that strives for the highest journalistic standards and abides by a strict set of editorial policies have breaking news or a story tip to send to our journalists contact us at news@coindeskcom\\ndisclaimer this article should not be taken as and is not intended to provide investment advice please conduct your own thorough research before investing in any cryptocurrency\\n\\nryan zurrer is principal and venture partner at polychain capital where he leads investments in decentralized blockchain protocols and distributed projectsthe following article is an exclusive contribution to coindesk\\'s 2017 in reviewif 2017 is to be remembered as a time when cryptographic tokens enabled novel distributed network concepts and significant capital was raised 2018 will bring more maturity in crypto-economic systems and decentralized applicationswith that in mind i have been calling summer 2017 the \"summer of crypto love\" here in san francisco it was the 50th anniversary of the \"summer of love\" – a magical unique moment where artists and intellectuals came together to explore new ways of thinking but this summer which was just as astounding was defined by everyone\\'s love for cryptothe scope of the impact that blockchain technologies will have in reorganizing capital and intelligence (both human and machine) was recognized by business leaders all over the world we saw extreme excitement for tokenized projects which drove high valuations in token crowdfunds (icos)clearly there were examples of overvaluation in some assets but discounting the ico model as merely a bubble or temporary hysteria would miss the forest for the treeswhen a token is designed correctly and distributed thoughtfully to drive network effects the leverage that a project can get from a massive globally distributed investor base is remarkable crowdfund participants contribute significant technical resources evangelize and market the project and generally add value that is very difficult for even a very talented venture capitalist to matchcapital is no longer a scarce resource because private vcs are no longer the gatekeepers of capital so investors are being forced to actually deliver value-add for projects beyond writing a chequei see this trend as generally positive and the natural evolution of the early-stage funding modeltuning up\\nbut while the world was getting hyped on icos here at the polychain office we were spending most of our time \"jamming\" on crypto-economic models with our portfolio entrepreneurs the results have been very compelling\\nin case you are unclear on the meaning of cryptoeconomics it is the emerging field of study of how we use digital incentives to drive specific resources and behaviors on decentralized networks that lead to some globally desired result such as security or network effects\\ni call the brainstorming process of designing the right cryptoeconomic model \"jamming\" as a tip-of-the-hat to the music creation process i observe that very few technologists possess the entire suite of competencies necessary to build a great crypto-economic model alone it requires expertise in game theory computer science behavioural psychology various fields of economics math logic distributed computing security and a deep understanding of blockchain technologies and their limitations\\nso as in music the best results are achieved when a fantastic group comes together and each talented individual shares their respective skills in a complementary fashion while being open minded to improvisation\\n\\nanecdotally this term has been inspired by my friend the great musician and technologist simon de la rouviere who is great to jam with either on music or on crypto-economics\\nthe following are some observations that have came from the many jam sessions of this year\\nthe block reward is returning\\nwe are starting to see more projects plan to sell only a minority of their tokens to fund project development and instead intend to distribute their token over time to coherently incentivize an array network participants\\nan elegantly designed block reward scheme (ideally adjusted periodically via a governance model) that incentivizes the different key players – keepers (ie miners validators etc) core protocol devs application devs and the wider ecosystem participants is an incredibly powerful concept and will be important as the battle for developer mindshare intensifies moving forward\\nin part juan benet and his team at protocol labs can be credited for the return of the block reward juan decided to sell only 10 percent of his network in his high-profile saft round in august and instead prioritized the block reward with 70 percent of the filecoin allocation\\ni predict this prudent design will drive an amazing amount of professionally operated storage providers to the ipfs network pushing the cost for retail users to store their files on ipfs to nearly zero\\nwe remain in the \\'infrastructure era\\' … for now\\nthere is a thoughtful debate around protocol layer vs application layer as an investment thesis and we recognize that there is considerable grey area in the classification of projects within the taxonomy of our ecosystem\\nhowever i observe that outlier value will continue to accrue deeper down the decentralized software stack known as web3 we still have a long way to go to have adequate infrastructure for web3 that will subsequently provide a platform for consumer applications at scale we still require multiple orders of magnitude improvement on scalability para-chain deployment more robust developer tools and applications that make interacting with blockchain technologies far less cumbersome for non-technical users\\nyet this industry moves faster than any other on the planet and i’m confident that we will see the emergence of the ‘application era’ far sooner than we would guess today\\nat the core of our thesis polychain remains laser focused on investing in and supporting the infrastructure layer of web3 and there are two implications for the year ahead that we draw from this thesis – the emergence of major ecosystems & meta protocols\\nmajor ecosystems are maturing\\nethereum was the first \"major ecosystem\" to emerge beyond bitcoin and present a rich topography for open source developers to create decentralized applications and higher-layer protocols\\nentering 2018 we are seeing the emergence of other major ecosystems that have aggregated lessons learned and present considerable performance improvements above what is available today these new major ecosystems will spawn their own communities of developers entrepreneurs researchers investors users evangelists and so on\\npolkadot dfinity tezos and filecoin are all positioned to trigger a cambrian explosion of innovation and novel applications across the space\\ni\\'m incredibly excited to watch this story unfold in 2018 as all four of these major ecosystems will go live and begin to capture developer mindshare and notoriety and some will become crucial components of the decentralized web\\nmeta-protocols are coming\\none of the many amazing contributions to crypto-economics that my brilliant partner and the founder of polychain capital olaf carlson-wee has made during our jam sessions is the idea of the \"meta-protocol\"\\nthis is a protocol that is applicable to many different underlying blockchains and actual generates further security and network effects by supporting different ecosystems simultaneously a great example of a meta-protocol is 1protocol which will be a relevant tool for staking across the space\\nother examples of meta-protocols are truebit for off-chain computational verification nucypher for proxy re-encryption and keep for private data management on-chain\\ni offer a few other predictions for the year ahead\\n\\ngovernance and daos – the next year will bring some high profile experiments with on-chain governance and we are excited to observe the results the launch of dfinity and tezos will be the largest attempts to fully deploy on-chain governance i am cautiously optimistic that we will also see the re-emergence of prominent daos in 2018 including daos that govern development of an underlying blockchain\\nfunctioning applications – we are also on the cusp of seeing some really compelling applications within the ethereum community personally i am very proud of the makerdao project that launched the dai stable coin this month this is one of the oldest projects in the ethereum community and is led by a very talented technical team instead of getting distracted with a flashy ico the makerdao team focused on building their project and the result is one of the first dapps that is robust and ready to scale\\nstablecoins – are critical to the larger crypto ecosystem so that businesses and smart contract systems can perform transactions on-chain without speculating on the underlying currency functional dapps will drive a new cohort of users to the space and accelerate the speed of mass  adoption\\n\\na bigger picture is forming\\nthrough the emergence of crypto-economics i believe the study of economics will forward more in the next 24 months then has occurred in the last 24 years\\nwhile there are so many reasons for gratitude as we conclude this remarkable 2017 what i am most grateful for is to be able to come into the polychain office every day to join a wicked-smart team that is constantly challenging my assumptions and theories on cryptoeconomics as we chart new territory\\ni am incredibly lucky and deeply humbled to work closely with the top technical teams in the space who come from all over the world to jam on their crypto-economic models and share lessons learned for the continued evolution of our community the results of these jam sessions is what drives my great optimism for where we are headed in crypto\\nhere’s to 2018 and more jamming on crypto-economics\\nhave your own crypto-economic model coindesk is looking for submissions to its 2017 in review series email news@coindeskcom to pitch your idea and make your views heard\\njohn lennon grafitti image via shutterstock\\n\\nthe leader in blockchain news coindesk strives to offer an open platform for dialogue and discussion on all things blockchain by encouraging contributed articles as such the opinions expressed in this article are the author\\'s own and do not necessarily reflect the view of coindeskfor more details on how you can submit an opinion or analysis article view our editorial collaboration guide or email news@coindeskcom\\ndisclaimer this article should not be taken as and is not intended to provide investment advice please conduct your own thorough research before investing in any cryptocurrency\\n\\nformer congressman ron paul said today that he believes the us government\\'s monetary policies have fueled the rise in the price of cryptocurrencies like bitcoin\"i think cryptocurrency is a reflection of the disaster of the monetary dollar system\" he told cnbc in an interview today specifically paul cited an excessive amount of credit created through the process of quantitative easing – by which central banks buy government debt and other financial assets in an effort to expand lending and boost the market – as at least partially responsible for the rise in cryptocurrencieshe went on to say\"i think if you had not had the qes and the massive amount of  inflation and places looking for the easing dollars to go you might still have the cryptocurrencies but i don\\'t think you would have this exponential bubble that is going on\" \\nthe former us representative\\'s comments are perhaps unsurprising given that paul – who has also waged unsuccessful bids for the presidency – has come out largely in favor of cryptocurrencies in the pastin october paul said that while he doesn\\'t consider bitcoin to be a form of real money he nonetheless believes the us government should limit how it regulates activities involving the tech\"if people want to use it the government should stay out of it\" paul told thestreet at the timeand earlier this month the former congressman started an online poll on twitter asking whether people – if given the option of taking a gift worth $10000 they had to hold on to for a period of time – would take bitcoin gold or dollars over half of the respondents showed support for bitcoinron paul image via shutterstock\\nthe leader in blockchain news coindesk is an independent media outlet that strives for the highest journalistic standards and abides by a strict set of editorial policies have breaking news or a story tip to send to our journalists contact us at news@coindeskcom\\ndisclaimer this article should not be taken as and is not intended to provide investment advice please conduct your own thorough research before investing in any cryptocurrency\\n\\ndays after hitting $900 ethereum\\'s native ether token ether has topped $1000 for the first time in its historyafter spending two days mostly below its previous high of $900 ether went on a rally wednesday and hit its latest milestone of $1000 early thursday morning according to data from coindesk\\'s ethereum price chart (epi)despite the increase however it remains as the third largest cryptocurrency by market cap having recently lost the second place spot to ripple’s xrp token according to data from coinmarketcap xrp\\'s lead has grown to more than $40 billion in the last day thursday also saw the overall cryptocurrency market cap jump past $770 billion according to coinmarketcap marking new highs just weeks after a correction saw the figure drop to $418 billionthe largest cryptocurrency by market cap bitcoin is down on the day having dropped from its week\\'s high of $15393 according to coindesk\\'s bitcoin price index (bpi) bitcoin has mostly traded sideways over the last week with prices staying in the $13000 to $14000 range interrupted briefly with a drop to nearly $12000 on dec 30bitcoin\\'s dominance in the cryptocurrency market cap remains just below 33% having dropped from 43% over the last week according to coinmarketcapfor more on ether\\'s recent performance view our 2017 in review recap hererunner image via shutterstock\\nthe leader in blockchain news coindesk is an independent media outlet that strives for the highest journalistic standards and abides by a strict set of editorial policies have breaking news or a story tip to send to our journalists contact us at news@coindeskcom\\ndisclaimer this article should not be taken as and is not intended to provide investment advice please conduct your own thorough research before investing in any cryptocurrency\\n\\nyuzo kano is the ceo for bitflyer one of japan\\'s largest cryptocurrency exchanges he previously worked at goldman sachs developing settlement systems and later on equities derivatives and convertible bondsthe following article is an exclusive contribution to coindesk\\'s 2017 in reviewno matter what negative news rocked the community what hard fork happened or what skeptics stated bitcoin held strong in 2017 this is due in no small part to japan while the wider community is what breathes life into any coin japan is now bitcoin\\'s heart; the country that is at the center of its support there used to be a concern about the longevity of bitcoin the safety of using such a novel new invention2017 is the year that fear died – and japan is a big part of that reasonwhere other countries have had knee-jerk responses to bitcoin and blockchain technology japan\\'s financial services agency (fsa) expertly analyzed the technology and developed clear and fair laws to regulate virtual currency exchanges this is no small matter – bitcoin exchanges are the onboard ramp to both bitcoin adoption as well as the future of virtual currenciescoming homewith all the positive news this year from japan it\\'s only appropriate to acknowledge the country\\'s deep history with cryptocurrency while we may never know for sure if he (or she) is (or was) japanese satoshi nakamoto is a japanese name japan is bitcoin\\'s homebut though bitcoin has always had strong roots in japan it was also the center of its biggest controversysome say that mt gox\\'s implosion now nearly four years removed was the worst event to ever happen to bitcoin the numbers were staggering 650000 bitcoins worth around $437 million at the time were lost when the exchange abruptly closed the company filed for bankruptcy this affected over 127000 customers around the world today those lost bitcoins are worth nearly $9 billionstill this event while terrible forced the japanese regulators to step in and protect consumersthat disruption that explosion is why japan has become the most forward thinking jurisdiction for bitcoin and virtual currencies the fsa\\'s understanding of the technology regardless of the bad or inexperienced actors early in the space helped lay the foundation on which the rest of the world can begin to understand and fully accept bitcoin and other virtual currenciesstarting on april 1 of this year the japanese government enacted an amendment to the payment services act these amendments which bitflyer helped establish have been referred to as the virtual currency act and alongside additional tax reform have provided three main pieces of regulation in 20171 legal clarification of bitcointhe virtual currency act described and identified what a virtual currency is clarified that bitcoin is considered an asset and that bitcoin can be considered a payment methodthat act however did not declare bitcoin as a legal currency as some have mistakenly professed2 virtual currency exchange regulationthe japan financial services authority was granted the ability to both regulate as well as issue licenses to virtual currency exchanges in japan this cemented bitcoin as an established market in japan where the rules are clear and consumers can be protectedbitflyer was proud to be granted one of the first licenses of this sort earlier this year in september3 one additional piece of regulation from a different actlastly while not part of the virtual currency act tax reform was pushed forward on july 1 which removed a consumption tax that dissuaded foreign investors from purchasing bitcoins on japan\\'s market this opened up japan’s markets to international investorsexpanding bitcoin and blockchain usagebut while japan has led the way the rest of the world should learn from the regulations and research that has resultedhere bitflyer has been able to work closely with government organizations to provide research and information about the usability of bitcoin and blockchain technology the research just like bitcoin is borderless and publicly available bitflyer has also been hard at work researching and developing a world-class enterprise blockchain called \"miyabi\" with a top speed of over 4000 transactions per second miyabi guarantees immutability finality byzantine fault tolerance low latency and has no single point of failurethis work has not gone unnoticedthe largest interbank clearing network in japan has selected bitflyer to demonstrate a proof of concept utilizing miyabi to show how blockchain can be used to revolutionize the banking industry and create a much faster settlement platform if adopted the largest banks in japan will be connected through blockchain and demonstrate to the world that enterprise blockchain can be implemented securely creating a better and more united financial worldthese developments are why we believe 2018 will be another spectacular year for bitcoinvolume has been growing steadily through 2017 the price has been skyrocketing throughout the year but most importantly the last pieces for institutional investors to get involved with bitcoin are close at handeven if a bitcoin etf doesn\\'t gain approval in 2018 the creation of futures products for bitcoin will allow for much more liquidity to enter the markets past just conventional derivatives dozens of trading firms have sprung up over the last year to allow for boutique hedge funds family offices or even large-sized individual traders to access the virtual currency marketswith all of these developments bitflyer has realized an incredible opportunity to harness all the liquidity in japan to fuel these new marketplaces and service new traders bitflyer\\'s bitcoin trade volume (including leveraged trading) is the largest in the world regardless of the massive inflow of volume institutional firms can bring through derivatives trading firms will need to trade actual bitcoin for deliverybitflyer\\'s global expansion (such as the recently launched bitflyer us exchange) seeks to service these markets directly by providing institutions and individuals everywhere with the ability to participate with the largest source of bitcoin liquidity in the world japandisclosure coindesk is a subsidiary of digital currency group which has an ownership stake in bitflyerlotus flower image via shutterstock\\nthe leader in blockchain news coindesk strives to offer an open platform for dialogue and discussion on all things blockchain by encouraging contributed articles as such the opinions expressed in this article are the author\\'s own and do not necessarily reflect the view of coindeskfor more details on how you can submit an opinion or analysis article view our editorial collaboration guide or email news@coindeskcom\\ndisclaimer this article should not be taken as and is not intended to provide investment advice please conduct your own thorough research before investing in any cryptocurrency\\n\\nthe native token of the ethereum platform ether has started the new year with a bang hitting an all-time high of over $900 this morninghaving traded more or less sideways for the last week prices for the third largest cryptocurrency by market valuation started to climb around midnight (utc) and topped out at the fresh high of $91483 at 0230 utc according to coindesk\\'s ethereum price indexgoing by coinmarketcap data ether has risen 1452 percent in the last 24 hours and 1362 percent over the last week the price gains come amid increased trading volumes particularly in asia with coinbene (singapore) binance (hong kong/japan) and bithumb (south korea) all posting notable increases in the last 24 hoursether\\'s market capitalization now stands at almost $85 billion with a circulation of 79 million tokensthe news comes as the wider cryptocurrency market is generally seeing positive movesmost of the top 20 digital currencies are in the green today and the market cap for all cryptocurrencies is closing on a new record standing at $645 billion at press timekorean fireworks image via shutterstock\\nthe leader in blockchain news coindesk is an independent media outlet that strives for the highest journalistic standards and abides by a strict set of editorial policies have breaking news or a story tip to send to our journalists contact us at news@coindeskcom\\ndisclaimer this article should not be taken as and is not intended to provide investment advice please conduct your own thorough research before investing in any cryptocurrency\\n\\ncryptocurrency exchange startup coinbase has blamed overwhelming demand from buyers for issues experienced during the launch of bitcoin cash trading on its gdax exchange last monththe firm added support for bitcoin cash on dec 20 but soon after moved to disable trading of its newest asset – an offshoot of bitcoin with key technical differences hours later trading against usd was reinstatedgdax general manager adam white said in a blog post explaining the issues that around 90 percent of initial requests were from people looking to buy bitcoin cashwhite wrote \"we paused trading on the bch-usd book due to significant volatility caused by heavy market buy demand that resulted in insufficient liquidity\"the low liquidity also caused the price of the cryptocurrency to shoot as high as $9500 far higher than listed on other exchanges he addedaccording to the post in the 2 minutes and 40 seconds after bch/usd trading commenced over 4000 orders were placed 3461 matches occurred and trading volume reached $155 millioncontinued liquidity problems meant the relaunch of bch/eur and bch/btc books to be postponed until after the winter holidays \"when there would be a higher likelihood of meeting liquidity standards needed to enable trading\"despite the firm\\'s \"best efforts to create a fair and orderly market\" the launch did not go as expected white acknowledgedaddressing allegations of possible insider trading around the bch launch the post also stated\"on november 13th 2017 employees were notified of the decision to support bch trading and were explicitly prohibited from buying and selling bch all employees were also barred from sharing this information with anyone outside of coinbase\"soon after the launch the firm said it would commence an investigation into whether any employees may have violated those rulesdisclosure coindesk is a subsidiary of digital currency group which has an ownership stake in coinbasecoinbase image via coindesk archives\\nthe leader in blockchain news coindesk is an independent media outlet that strives for the highest journalistic standards and abides by a strict set of editorial policies have breaking news or a story tip to send to our journalists contact us at news@coindeskcom\\ndisclaimer this article should not be taken as and is not intended to provide investment advice please conduct your own thorough research before investing in any cryptocurrency\\n\\nthe 50 percent decline of ripple\\'s xrp token from the record highs may have strengthened the bears but chart analysis indicates further downside may be limitedas per data source onchainfx the world\\'s third-largest cryptocurrency by market capitalization has depreciated by 1685 percent in the last 24 hours as of writing xrp is trading at $188 levelspart of the price drop from $336 to $207 witnessed on monday can attributed to data provider coinmarketcap\\'s  unannounced decision to exclude three korean exchanges causing its global average to suddenly drop the resulting selloff came to halt after the change in average calculation methodology became public allowing for a partial recovery in the xrp price to $246however the relief was short-lived xrp fell below $200 yesterday and hit a 12-day low of $171 today the decline in prices over the last 48 hours highlights the bearish undertone across the wider crypto marketsstellar lumens has dropped by 15 percent over a 24 hour period; nem and cardano are down 13 percent and 15 percent respectively; while tron has lost a hefty 24 percent in valuefighting the trend the top performer is ether (eth) which hit a new all-time high of $1417 today eth has gained around 11 percent over 24 hoursripple chartthe chart (prices as per bitstamp) above shows\\nthe bears are in control courtesy of a bearish doji reversal (jan 4 doji candle and the negative price action on the following day) and a sharp drop to a 12-day low of $161 today\\nthe bearish 5-day and 10-day moving average (ma) crossover (short-term average cut long-term average from above) also indicate upticks are likely to be short-lived\\nthe rising trend line may offer support around $150\\nthe relative strength index (rsi) is pointing lower but still holding above 5000 (bullish territory)\\nview\\nxrp looks set to test the rising trend line support of $150 dips below the same could be short-lived given the rsi on 4-hour time frame and 1-hour time frame shows oversold conditions\\nbullish scenario a rebound from the trendline support followed by a close above $215 (jan 5 low) would add credence to the oversold conditions as shown by the 4-hour and 1-hour rsi and signal further gain towards $300–$330 levels\\nbearish scenario a sustained move below $14154 (618 percent fibonacci retracement) could yield a sell-off to sub-$050 levels\\ndisclosure coindesk is a subsidiary of digital currency group which has an ownership stake in rippleboxer image via shutterstock\\nthe leader in blockchain news coindesk is an independent media outlet that strives for the highest journalistic standards and abides by a strict set of editorial policies interested in offering your expertise or insights to our reporting contact us at news@coindeskcom\\ndisclaimer this article should not be taken as and is not intended to provide investment advice please conduct your own thorough research before investing in any cryptocurrency\\n\\nbitcoin is increasingly looking topped-out as excitement fades over the recent launch of the first futures products to focus on the cryptocurrencyas per coindesk\\'s  bitcoin price index the cryptocurrency was last seen trading at $17000 down from the record high of $19783 set on dec 17 overall bitcoin has depreciated by 4 percent in the last 24 hours according to data source coinmarketcap but it\\'s perhaps the movement behind that figure that\\'s most notablebitcoin\\'s 24-hour trading volume has jumped above $19 billion – its highest since dec 8 the high volume sell-off indicates strong hands are at play and price weakness could extend over the coming weekendapparently driving the price drop is the rotation of money out of bitcoin (btc) and into alternatives such as bitcoin cash (bch) – as shown by the massive gains in the bch/btc pair in the run-up to coinbase\\'s decision to list the cryptocurrency on its exchange platform the question now is how low can bitcoin gothe price chart analysis indicates the sell-off could run out of steam around $11000 levelsbitcoin chartthe above chart (price as per coinbase) shows\\nyesterday\\'s weak close confirmed a hanging man bearish reversal pattern and bearish price rsi divergence\\nthe sharp drop to $14000 today strengthens the argument that a short-term top is in place at $1989199\\nhistorical data shows that previous bouts of correction bottomed-out near 618% fibonacci retracement level accordingly the current pullback could run out of steam around $11000bitcoin chart (prices as per bitstamp)the use of a harmonic price pattern also identifies the area near $11000 as a potential reversal zone with the potential bullish reversal point being $11280a cypher pattern is a part of the harmonic trading methodology that utilizes the recognition of specific price patterns and the alignment of exact fibonacci ratios to determine a highly probable reversal pointcypher is characterized by\\nab= 0382 to 0618 retracement of the xa swing leg;\\nbc= extend to minimum 1272 and maximum 1414 of the xa swing leg\\ncd= retrace to 0786 of the xc swing leg\\nd = reversal point\\nview\\nbtc seems to have topped out near $20000 for the short-term\\nthe area around $11000 could act as a strong support zone or a reversal point as suggested by the cypher pattern\\nbullish scenario - a close (as per utc) today above the 5-day ma of $18680 would add credence to the sharp recovery from the intraday low of $14000 (prices as per coinbase) and could yield a move above $20000\\nfreezing thermometer via shutterstock\\nthe leader in blockchain news coindesk is an independent media outlet that strives for the highest journalistic standards and abides by a strict set of editorial policies interested in offering your expertise or insights to our reporting contact us at news@coindeskcom\\ndisclaimer this article should not be taken as and is not intended to provide investment advice please conduct your own thorough research before investing in any cryptocurrency\\n\\nthe cryptocurrency market appears to be starting the new year off by cementing a recoveryat press time the total value of the more than 1300 publicly traded cryptocurrencies as listed by data coinmarketcap set a new all-time high of $667 billion as such it\\'s the latest sign that the entire cryptocurrency market has recovered from a correction on dec 22 when the market plunged more than 30 percent from around $648 billion to $422 billionstill what\\'s most notable about the rally is that data shows the world\\'s largest cryptocurrency may not be a large contributor bitcoin\\'s dominance or its share of the total market cap has now dropped to an all-time-low data suggests the value of all bitcoins is currently accounting for 356 percent of the entire marketplaceindeed the metric saw a rather turbulent movement in 2017 having decreased sharply from over 80 percent to 3746 percent in june this was followed by a six-month bounce-back to 65 percent around early december data from the market\\'s overnight session (001~600 utc) morning session (0601~1200 utc) and afternoon session (1201~1800) suggest part of that decline may be due to rising interest in the broader cryptocurrency markets just one digital asset tron was a top performer in more than one session hinting capital may be moving quickly between options in search of gainshot air balloon image via coindesk archive\\nthe leader in blockchain news coindesk is an independent media outlet that strives for the highest journalistic standards and abides by a strict set of editorial policies have breaking news or a story tip to send to our journalists contact us at news@coindeskcom\\ndisclaimer this article should not be taken as and is not intended to provide investment advice please conduct your own thorough research before investing in any cryptocurrency\\n\\nbrendan bernstein is a founding member of tetras capital partners llc an investment manager focused on investing in cryptocurrencies and blockchain assetsthe crypto market moves in cycles – and understanding these cycles is key to profiting managing risk and keeping sanehoward marks describes two ways to profit from markets (1) hold more of the things that rise and less of the things that fall and (2) cycle adjustment or trying to have more risk exposure when markets rise and less when they fallmost people ignore the second part yet the key to cycle adjustment is understanding where you are in the cycle and calibrating the risks and rewards to account for it similar to the broader economy we have both short and long-term cycles short-term cycles are driven by the capital flows investor composition and market sentiment long-term cycles result from the aggregate effects of the short-term cycles and ultimately are driven by long-term fundamentalsthe past few months in contextover the last few months the market has been driven by new capital entering the space and a psychological acceptance of bitcoin the capital — both retail and institutional (ie new crypto hedge funds) — entered initially through the most liquid crypto assets and fiat currency onrampsbitcoin being the most liquid fiat onramp has performed well it was also the first asset many investors became comfortable with during that timefrom july 1st to dec 10th bitcoin dominance (or its percentage of total cryptocurrency market capitalization) increased from 41% to 66% – even as the overall market cap of all cryptocurrencies was increasing outside of bitcoin btc\\'s price increased from $2492 to almost $20000i\\'ll stress that this was not driven by fundamentals but rather the capital flows and accessibility premium of bitcoin new capital had a bias for bitcoin because it was the easiest to understand custody and purchasethe short-term cycle moved in btc\\'s favorthe short-term crypto cycle in actionmoving toward december the market started to become more and more dominated by retail and – let\\'s be honest – less crypto-educated capital coinbase is a great proxy for this phenomenon from june to october coinbase signups were relatively constant at  about30000 per dayhowever starting in early november this number started to increase dramatically exceeding 100000 on some daysinitially this capital continued to pour into bitcoin putting fuel on the short-term cycle and building new investor sentiment in favor of btcbtc was going to $100000 and by the time cnbc debuted its coveted \"btc ticker\" the pendulum had swung too far in btc\\'s directionlarger investors started to take profits bitcoin began to falter it was time to find the next new shiny object…as capital moved out of bitcoin and into other assets we saw the end of one short-term cycle and beginning of the next starting in early december a new cycle began and the \"cheaper\" coinbase assets stole the showcapital that initially entered the crypto markets through btc was finally comfortable with the crypto space and willing to move out on the risk curve in other words it was time to play with house moneythe newer retail entrants cared less about fundamental protocol strength and were easily lured into a protocol\\'s marketing pitch these were not cypherpunksbtc is archaic and overpriced to these investors there is no eea of bitcoin no marketing team is pushing it why buy a $17000 digital gold when you could buy a $100 faster alternative in the first three weeks of december alone litecoin increased 37x from $100 to $371 while btc continued to lose groundltc too would have a fall from grace when longer-term ltc holders began to sell (ahem charlie) and returns started to stagnate these restless investors moved on once again with more house money to play with their attention moved from the roulette table that is coinbase to the craps table that is bittrex poloniex and binance as a result signups on those exchanges skyrocketed and bittrex even had to close new user accounts\"holy shit even cheaper versions of btc\" their marketing budgets lured them in with the siren call of lambosit seems ridiculous to say but the cheaper the asset the greater the chance of a return and when i said cheap i\\'m not referring to a fundamental measure of value like a value investor would (p/bv p/e etc) i\\'m referring to its pricea chart of returns over the past seven days paints this picture there\\'s a direct negative correlation between the price of the token and return it\\'s scary but it\\'s unfortunately truetrx xrp xlm ada you name it \"bitcoin 30\" faster cheaper and more upside right it became a self-fulfilling prophecy btc retreated 40% and overall dominance fell from 65% down to 37% this week the fire was already smolderingnew retail investors were the gasoline preston byrne said it best – cryptocurrencies have become the worlds largest penny stock casinohow to weather the shitcoin storminvestors trying to find fundamental value are ripping their eyes out xrp with legitimately zero fundamental usage (see below) just passed btc in diluted market cap\\nover the last day i’ve asked several people close to banks if banks are indeed planning to begin using ripple’s token xrp in a serious way which is what investors seem to assume when they buy in at the current xrp prices this is a sampling of what i heard back pictwittercom/zbfmqg4tpd\\n— nathaniel popper (@nathanielpopper) january 5 2018iota has proven cryptographic flaws what the hell is tron raiblocks went from a market cap of $30 million to $4 billion in a week what the fuckmeanwhile assets with real usage actual code and strong development communities like monero for example have not moved are investors supposed to recognize the reality of the situation that for the current market regime fundamental protocol strength — adoption code quality tech talent etc — means less than the price of the asset and marketing budgetshould you go all-in on coins less than $1 or do you stick to your guns find value and weather the shitcoin stormthe answer comes down to understanding where we are the cryptocurrency cyclewhere we are – and how to profitthe answer to investing is rarely black and white it’s not \"get in\" or \"get out\" it\\'s usually somewhere in the middlewhen people are increasingly willing to take risk and fear of missing out (fomo) is prevailing over any sense of security and analytical discipline that\\'s the time to be worried when the fundamentally weakest assets are rallying the most and people are proclaiming btc is dead we\\'re starting to near the end of a short-term altcoin-dominated cyclethe problem is that investors tend to think of themselves as analytical disciplined and contrarian but the fact of the matter is that most tend to magnify cyclical moves they cannot stomach the possibility they may miss out on gainsthat is why predicting the exact top and bottom is so challenging but doing so with exact precision is not necessary…\\ndoes anyone still talk about bitcoin\\n— ran neuner (@cryptomanran) january 5 2018howard marks describes the strategy well\"no one can ascertain when we’re at the exact top or bottom a key to successful investing lies in selling – or lightening up – when we’re closer to the top and buying\\u200a—\\u200aor hopefully loading up\\u200a—\\u200awhen we’re closer to the bottom\"profiting from the short-term market cycles is not predicated on owning 0 bitcoin at peak alt and 0 alts at peak btc the key is that when investor euphoria is widespread we should lighten up on those assets which are expensive and be more aggressive with those that are cheap the time to be overweight alts is at the beginning and middle of the altcoin cycle not towards the end and the same generally holds true for bitcoinit\\'s about calibrating and balancing your allocation of capital in accordance with the current cycle and how aggressive or defensive you want to bemeanwhile amid the small-cap and altcoin euphoria we\\'re on the precipice of a major entrance of institutional capital to the space and the one place it is going is btc family offices large hedge funds and endowments will not be investing in bcash a btc etf will launch sooner than people think a tron one will notto profit from these cycles you need to first understand where we stand in it and then be able to act counter to it at the peaks and troughs it\\'s not easy the only reason it\\'s profitable is that because it\\'s so hard at first you\\'re bound to lose money as the cycle continues in its march to irrationality but the cycle will always turn and in crypto we know it won\\'t be long until it doesthose with large altcoin positions should be worried when the cycle reaches its peak and begins to turn smaller-cap illiquid tokens will fall as fast as they\\'ve gone up liquidity will dry up fast and you will not be able to sell anywhere close to the quoted pricethe market in altcoin terms is getting expensive and in btc terms it\\'s getting cheaper it\\'s time to start using altcoin gains to build up core fundamentally strong positionsa walk down memory lanei\\'m not making this up we\\'ve seen it happen beforethis period is eerily similar to march 2017 \"bitcoin 20\" ethereum had recently launched on coinbase the eea was getting cemented and a slew of conferences were created to promote etheruem why invest in digital gold when you could own a world computerfor three months eth dramatically increased in price as new retail investors poured into the space and quit their jobs to day trade after massive gains eth increased in price from $7 in december of 2016 to $391 by june of 2017 btc dominance fell from 86% to 40% we were on the precipice of \"the flippening\" after which many thought btc would subsequently fall to zerountil the music stopped investors were tapped out icos slowed down and eth started having scaling issues just as the price got ahead of itself institutional capital began to enter btc the btc dominance cycle began to revertilliquid altcoins some of the same ones the new retail investors have made their money from fell dramatically xvg fell from a peak of $0006 down to $0002 a 67% decline xrp fell from $031 to $015 a 50% declinethis year isn’t the first time it\\'s happened investors have been lured out of bitcoin into altcoins since the first ones launchedsince 2013 we’ve been seeing btc dominance fall only to regain most of the lost ground shortly thereafter this cycle too will revertwhat causes each cycleeach aforementioned btc cycle has a common thread the investor base partially driven by new capital becomes enamored by an alternative asset or market narrativethe cycle is usually triggered by a legitimate change in fundamentals and then subsequently it\\'s taken to the extreme by investor behavior earlier in 2017 it was smart contract functionality and icos now as btc fees creep up and eth is facing scaling issues most of the coins that have increased in price are aiming to be cheaper faster or more scalablewhat we\\'re actually seeing is a mini-gartner hype cycle play out around a new market theme or narrativenew technology captures investor attention emotional influences cause investors to follow the herd and fear of missing out predominates the cycle gets taken to its extreme until it can go no further\\nat one point in the 1989 japanese real estate bubble the imperial palace in japan was said to be worth more than the entire state of california things that don\\'t make sense don\\'t lastbe careful out there\\n— michael novogratz (@novogratz) january 4 2018how to prepare for the next altcoin cycleit goes without saying but the current market regime is not fundamentally driven whatsoever but is instead driven by narrative and investor sentimentthe market is a keynesian beauty contest it\\'s crucial to practice second-level thinking— the question isn\\'t just why a protocol is interesting but why and when the market will find it interestingthe most profitable trades come from synthesizing views on the macro liquidity cycle narrative and capital flows with micro-analysis into the crypto-economic tradeoffs and qualities of each protocoltowards the end of each short-term cycle instead of doubling down on what\\'s been working — ie doubling down on altcoins right now — prepare for the turn of the nextwhen in a btc cycle the question to ask is what narrative will be the crux of the next gartner hype cycle where will the capital flow when the btc cycle peaks and what will be the catalystfundamentally analyze each protocol and determine which will benefit most from a shift in narrative do your diligence make sure the code and underlying infrastructure is sound and protect your capitalwhen you inevitably find yourself thinking that btc or [insert protocol here] can\\'t be stopped remember that we\\'ve been evolutionarily programmed to think pro-cyclically it will be stopped and the cycle will turnthe comments views opinions and any forecasts of future events reflect the opinion of the quoted author or speaker do not necessarily reflect the views of tetras capital partners llc (“tetras”) or other professionals at tetras are not guarantees of future events returns or results and are not intended to provide financial planning or investment adviceumbrella image via shutterstockdisclosure coindesk is a subsidiary of digital currency group which has an ownership stake in coinbase \\nthe leader in blockchain news ',\n",
       " 'title': 'Weathering the Altcoin Storm (And Investing for the Next)',\n",
       " 'tstamp': datetime.datetime(2018, 1, 8, 6, 30, tzinfo=datetime.timezone.utc)}"
      ]
     },
     "execution_count": 43,
     "metadata": {},
     "output_type": "execute_result"
    }
   ],
   "source": [
    "data"
   ]
  },
  {
   "cell_type": "code",
   "execution_count": null,
   "metadata": {},
   "outputs": [],
   "source": []
  }
 ],
 "metadata": {
  "kernelspec": {
   "display_name": "Python 3",
   "language": "python",
   "name": "python3"
  },
  "language_info": {
   "codemirror_mode": {
    "name": "ipython",
    "version": 3
   },
   "file_extension": ".py",
   "mimetype": "text/x-python",
   "name": "python",
   "nbconvert_exporter": "python",
   "pygments_lexer": "ipython3",
   "version": "3.6.1"
  }
 },
 "nbformat": 4,
 "nbformat_minor": 2
}
