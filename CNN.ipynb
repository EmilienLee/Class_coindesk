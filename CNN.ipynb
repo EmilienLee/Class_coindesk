{
 "cells": [
  {
   "cell_type": "code",
   "execution_count": 2,
   "metadata": {},
   "outputs": [
    {
     "name": "stdout",
     "output_type": "stream",
     "text": [
      "Found 331 images belonging to 3 classes.\n",
      "Found 82 images belonging to 3 classes.\n",
      "Epoch 1/20\n",
      "331/331 [==============================] - 1470s 4s/step - loss: 0.2556 - acc: 0.8854 - val_loss: 1.0173 - val_acc: 0.8411\n",
      "Epoch 2/20\n",
      "331/331 [==============================] - 1475s 4s/step - loss: 2.0215e-05 - acc: 1.0000 - val_loss: 1.2719 - val_acc: 0.8535\n",
      "Epoch 3/20\n",
      "331/331 [==============================] - 1492s 5s/step - loss: 2.9844e-06 - acc: 1.0000 - val_loss: 1.3930 - val_acc: 0.8544\n",
      "Epoch 4/20\n",
      "331/331 [==============================] - 1465s 4s/step - loss: 1.2942e-06 - acc: 1.0000 - val_loss: 1.4945 - val_acc: 0.8651\n",
      "Epoch 5/20\n",
      "331/331 [==============================] - 1536s 5s/step - loss: 7.3202e-07 - acc: 1.0000 - val_loss: 1.4850 - val_acc: 0.8549\n",
      "Epoch 6/20\n",
      "331/331 [==============================] - 1635s 5s/step - loss: 4.6930e-07 - acc: 1.0000 - val_loss: 1.5442 - val_acc: 0.8535\n",
      "Epoch 7/20\n",
      "331/331 [==============================] - 1489s 4s/step - loss: 3.4638e-07 - acc: 1.0000 - val_loss: 1.5468 - val_acc: 0.8540\n",
      "Epoch 8/20\n",
      "331/331 [==============================] - 1487s 4s/step - loss: 2.6662e-07 - acc: 1.0000 - val_loss: 1.5709 - val_acc: 0.8535\n",
      "Epoch 9/20\n",
      "331/331 [==============================] - 1504s 5s/step - loss: 2.2051e-07 - acc: 1.0000 - val_loss: 1.6265 - val_acc: 0.8656\n",
      "Epoch 10/20\n",
      "331/331 [==============================] - 1505s 5s/step - loss: 1.9016e-07 - acc: 1.0000 - val_loss: 1.6579 - val_acc: 0.8638\n",
      "Epoch 11/20\n",
      "331/331 [==============================] - 1503s 5s/step - loss: 1.6674e-07 - acc: 1.0000 - val_loss: 1.5938 - val_acc: 0.8682\n",
      "Epoch 12/20\n",
      "331/331 [==============================] - 1504s 5s/step - loss: 1.5341e-07 - acc: 1.0000 - val_loss: 1.6411 - val_acc: 0.8656\n",
      "Epoch 13/20\n",
      "331/331 [==============================] - 1503s 5s/step - loss: 1.4261e-07 - acc: 1.0000 - val_loss: 1.6249 - val_acc: 0.8673\n",
      "Epoch 14/20\n",
      "331/331 [==============================] - 1501s 5s/step - loss: 1.3643e-07 - acc: 1.0000 - val_loss: 1.6696 - val_acc: 0.8642\n",
      "Epoch 15/20\n",
      "331/331 [==============================] - 1504s 5s/step - loss: 1.3112e-07 - acc: 1.0000 - val_loss: 1.6753 - val_acc: 0.8660\n",
      "Epoch 16/20\n",
      "331/331 [==============================] - 1500s 5s/step - loss: 1.2760e-07 - acc: 1.0000 - val_loss: 1.7001 - val_acc: 0.8642\n",
      "Epoch 17/20\n",
      "331/331 [==============================] - 1509s 5s/step - loss: 1.2503e-07 - acc: 1.0000 - val_loss: 1.6532 - val_acc: 0.8673\n",
      "Epoch 18/20\n",
      "331/331 [==============================] - 1503s 5s/step - loss: 1.2324e-07 - acc: 1.0000 - val_loss: 1.6905 - val_acc: 0.8660\n",
      "Epoch 19/20\n",
      "331/331 [==============================] - 1511s 5s/step - loss: 1.2207e-07 - acc: 1.0000 - val_loss: 1.6854 - val_acc: 0.8660\n",
      "Epoch 20/20\n",
      "331/331 [==============================] - 1496s 5s/step - loss: 1.2128e-07 - acc: 1.0000 - val_loss: 1.7055 - val_acc: 0.8664\n",
      "Elapsed time in minutes\n",
      "501.5\n"
     ]
    }
   ],
   "source": [
    "# -*- coding: utf-8 -*-\n",
    "\"\"\"\n",
    "Spyder Editor\n",
    "This is a temporary script file.\n",
    "\"\"\"\n",
    "#!/usr/bin/env python3\n",
    "# -*- coding: utf-8 -*-\n",
    "\"\"\"\n",
    "Created on Thu Dec 28 22:49:30 2017\n",
    "@author: xinyingpeng\n",
    "\"\"\"\n",
    "# Part 1 - Building the CNN\n",
    "# Importing the Keras libraries and packages\n",
    "from keras.models import Sequential\n",
    "from keras.layers import Conv2D\n",
    "from keras.layers import MaxPooling2D\n",
    "from keras.layers import Flatten\n",
    "from keras.layers import Dense\n",
    "#these 2 lines are for timer\n",
    "from timeit import default_timer as timer\n",
    "start = timer()\n",
    "\n",
    "model = Sequential()\n",
    "\n",
    "model.add(Conv2D(32, (3, 3), activation=\"relu\", input_shape=(300, 300, 3)))\n",
    "model.add(MaxPooling2D(pool_size = (2, 2)))\n",
    "\n",
    "model.add(Conv2D(64, (3, 3), activation=\"relu\"))\n",
    "model.add(MaxPooling2D(pool_size = (2, 2)))\n",
    "\n",
    "model.add(Conv2D(128, (3, 3), activation=\"relu\"))\n",
    "model.add(MaxPooling2D(pool_size = (2, 2)))\n",
    "\n",
    "model.add(Flatten())\n",
    "\n",
    "model.add(Dense(512, activation = 'relu'))\n",
    "model.add(Dense(256, activation = 'relu'))\n",
    "model.add(Dense(128, activation = 'relu'))\n",
    "model.add(Dense(3, activation = 'softmax'))\n",
    "\n",
    "model.compile(optimizer = 'adam', loss = 'categorical_crossentropy', metrics = ['accuracy'])\n",
    "\n",
    "from keras.preprocessing.image import ImageDataGenerator\n",
    "train_datagen = ImageDataGenerator(rescale = 1/255)\n",
    "test_datagen = ImageDataGenerator(rescale = 1/255)\n",
    "\n",
    "training_set = train_datagen.flow_from_directory('./Data_Collection_cnn/train/',\n",
    "                                                 target_size = (300, 300),\n",
    "                                                 batch_size = 32,\n",
    "                                                 class_mode = 'categorical')\n",
    "test_set = test_datagen.flow_from_directory('./Data_Collection_cnn/test/',\n",
    "                                            target_size = (300, 300),\n",
    "                                            batch_size = 32,\n",
    "                                            class_mode = 'categorical')\n",
    "history = model.fit_generator(training_set,\n",
    "                         steps_per_epoch = 331,\n",
    "                         epochs = 20,\n",
    "                         validation_data = test_set,\n",
    "                         validation_steps = 82)\n",
    "# elapsed time in minutes\n",
    "end = timer()\n",
    "print(\"Elapsed time in minutes\")\n",
    "print(0.1*round((end - start)/6))\n",
    "# end of work message"
   ]
  },
  {
   "cell_type": "code",
   "execution_count": 3,
   "metadata": {},
   "outputs": [],
   "source": [
    "#save your model\n",
    "from keras.models import load_model\n",
    "classifier.save('20180401_model')"
   ]
  },
  {
   "cell_type": "code",
   "execution_count": 5,
   "metadata": {},
   "outputs": [
    {
     "data": {
      "image/png": "[encoded data removed]",
      "text/plain": [
       "<matplotlib.figure.Figure at 0x7fd518eea710>"
      ]
     },
     "metadata": {},
     "output_type": "display_data"
    },
    {
     "data": {
      "image/png": "[encoded data removed]",
      "text/plain": [
       "<matplotlib.figure.Figure at 0x7fd518e1b7f0>"
      ]
     },
     "metadata": {},
     "output_type": "display_data"
    }
   ],
   "source": [
    "import matplotlib.pyplot as plt\n",
    "\n",
    "acc = history.history['acc']\n",
    "val_acc = history.history['val_acc']\n",
    "loss = history.history['loss']\n",
    "val_loss = history.history['val_loss']\n",
    "\n",
    "epochs = range(len(acc))\n",
    "\n",
    "plt.plot(epochs, acc, label='Training acc')\n",
    "plt.plot(epochs, val_acc, label='Validation acc')\n",
    "plt.title('Training and validation accuracy')\n",
    "plt.legend()\n",
    "\n",
    "plt.figure()\n",
    "\n",
    "plt.plot(epochs, loss, label='Training loss')\n",
    "plt.plot(epochs, val_loss, label='Validation loss')\n",
    "plt.title('Training and validation loss')\n",
    "plt.legend()\n",
    "\n",
    "plt.show()"
   ]
  },
  {
   "cell_type": "code",
   "execution_count": null,
   "metadata": {},
   "outputs": [],
   "source": [
    "import os\n",
    "os.system('say \"your program has finished\"')\n",
    "# elapsed time in minutes\n",
    "#use your model in\n",
    "#-----------------\n",
    "from keras.preprocessing import image as image_utils\n",
    "import numpy as np\n",
    "classifier = load_model('./20180327_model')\n",
    "#tired is o    untired is 1\n",
    "test_image = image_utils.load_img('D:\\\\picture\\\\zack\\\\untired\\\\test_412.jpeg', target_size=(300, 300))\n",
    "test_image = image_utils.img_to_array(test_image)\n",
    "test_image = np.expand_dims(test_image, axis=0)\n",
    "#result = classifier.predict_on_batch(test_image)\n",
    "result = classifier.predict(test_image)"
   ]
  }
 ],
 "metadata": {
  "kernelspec": {
   "display_name": "Python 3",
   "language": "python",
   "name": "python3"
  },
  "language_info": {
   "codemirror_mode": {
    "name": "ipython",
    "version": 3
   },
   "file_extension": ".py",
   "mimetype": "text/x-python",
   "name": "python",
   "nbconvert_exporter": "python",
   "pygments_lexer": "ipython3",
   "version": "3.6.4"
  }
 },
 "nbformat": 4,
 "nbformat_minor": 2
}
