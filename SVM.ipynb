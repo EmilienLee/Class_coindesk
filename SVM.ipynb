{
 "cells": [
  {
   "cell_type": "code",
   "execution_count": 39,
   "metadata": {},
   "outputs": [],
   "source": [
    "from sklearn.svm import SVC\n",
    "from sklearn.model_selection import train_test_split\n",
    "from sklearn.metrics import accuracy_score\n",
    "from sklearn.externals import joblib\n",
    "from imutils import paths\n",
    "import numpy as np\n",
    "import imutils\n",
    "import cv2\n",
    "import os"
   ]
  },
  {
   "cell_type": "code",
   "execution_count": 40,
   "metadata": {},
   "outputs": [],
   "source": [
    "# resize the image to a fixed size, then flatten the image into\n",
    "# a list of raw pixel intensities\n",
    "def image_to_feature_vector(image, size = (100, 50)):\n",
    "    return cv2.resize(image, size).flatten()\n",
    "\n",
    "def extract_color_histogram(image, bins = (8, 8, 8)):\n",
    "    # extract a 3D color histogram from the HSV color space using\n",
    "    # the supplied number of `bins` per channel\n",
    "    hsv = cv2.cvtColor(image, cv2.COLOR_BGR2HSV)\n",
    "    hist = cv2.calcHist([hsv], [0, 1, 2], None, bins, [0, 180, 0, 256, 0, 256])\n",
    "\n",
    "    # handle normalizing the histogram if we are using OpenCV 2.4.X\n",
    "    if imutils.is_cv2():\n",
    "        hist = cv2.normalize(hist)\n",
    "\n",
    "    # otherwise, perform \"in place\" normalization in OpenCV 3 (I\n",
    "    # personally hate the way this is done\n",
    "    else:\n",
    "        cv2.normalize(hist, hist)\n",
    "\n",
    "    # return the flattened histogram as the feature vector\n",
    "    return hist.flatten()\n",
    "\n",
    "dataset = 'cheekForKNN'\n",
    "# initialize the raw pixel intensities matrix, the features matrix,\n",
    "# and labels list\n",
    "rawImages = []\n",
    "features = []\n",
    "labels = []\n",
    "\n",
    "# loop over the input images\n",
    "for dirname, dirnames, filenames in os.walk(dataset):\n",
    "    if dirname != dataset:\n",
    "        path, label = os.path.split(dirname)\n",
    "        # grab the list of images that we'll be describing\n",
    "        imagePaths = list(paths.list_images(dirname))\n",
    "        for (i, imagePath) in enumerate(imagePaths):\n",
    "        # load the image and extract the class label (assuming that our\n",
    "        # path as the format: /dataset/{class}/{image_num}.jpg\n",
    "            image = cv2.imread(imagePath)\n",
    "\n",
    "            # extract raw pixel intensity \"features\", followed by a color\n",
    "            # histogram to characterize the color distribution of the pixels\n",
    "            # in the image\n",
    "            pixels = image_to_feature_vector(image)\n",
    "            hist = extract_color_histogram(image)\n",
    "\n",
    "            # update the raw images, features, and labels matricies,\n",
    "            # respectively\n",
    "            rawImages.append(pixels)\n",
    "            features.append(hist)\n",
    "            labels.append(label)\n",
    "\n",
    "            # show an update every 1,000 images\n",
    "            if i > 0 and i % 1000 == 0:\n",
    "                print(\"[INFO] processed {}/{}\".format(i, len(imagePaths)))"
   ]
  },
  {
   "cell_type": "code",
   "execution_count": 49,
   "metadata": {},
   "outputs": [],
   "source": [
    "#train_rX, train_rY = rawImages, labels\n",
    "(train_rX, test_rX, train_rY, test_rY) = train_test_split(rawImages, labels, test_size = 0.2)\n",
    "(train_fX, test_fX, train_fY, test_fY) = train_test_split(features, labels, test_size = 0.2)"
   ]
  },
  {
   "cell_type": "code",
   "execution_count": 60,
   "metadata": {},
   "outputs": [
    {
     "name": "stdout",
     "output_type": "stream",
     "text": [
      "Accuracy_r: 0.69\n",
      "Accuracy_f: 0.66\n"
     ]
    }
   ],
   "source": [
    "#kernel =‘linear’, ‘poly’, ‘rbf’(default)\n",
    "model_r = SVC(kernel = 'poly', probability = True, random_state = 77)\n",
    "model_r.fit(train_rX, train_rY)\n",
    "test_rX_pred = model_r.predict(test_rX)\n",
    "print('Accuracy_r: %.2f' % accuracy_score(test_rY, test_rX_pred))\n",
    "\n",
    "model_f = SVC(kernel = 'linear', probability = True, random_state = 77)\n",
    "model_f.fit(train_fX, train_fY)\n",
    "test_fX_pred = model_f.predict(test_fX)\n",
    "print('Accuracy_f: %.2f' % accuracy_score(test_fY, test_fX_pred))"
   ]
  },
  {
   "cell_type": "code",
   "execution_count": 88,
   "metadata": {},
   "outputs": [
    {
     "name": "stdout",
     "output_type": "stream",
     "text": [
      "['notgood']\n",
      "[[ 0.51082129  0.48917871]]\n",
      "\n",
      "['good']\n",
      "[[ 0.518847  0.481153]]\n"
     ]
    }
   ],
   "source": [
    "image = cv2.imread('acne/S__45334552.jpg')\n",
    "pixels = image_to_feature_vector(image)\n",
    "print(model_r.predict(pixels.reshape(1, -1)))\n",
    "print(model_r.predict_proba(pixels.reshape(1, -1)))\n",
    "print()\n",
    "hist = extract_color_histogram(image)\n",
    "print(model_f.predict(hist.reshape(1, -1)))\n",
    "print(model_f.predict_proba(hist.reshape(1, -1)))"
   ]
  },
  {
   "cell_type": "code",
   "execution_count": 72,
   "metadata": {},
   "outputs": [
    {
     "data": {
      "text/plain": [
       "['20180403_model_svm_rgb_cheek.pkl']"
      ]
     },
     "execution_count": 72,
     "metadata": {},
     "output_type": "execute_result"
    }
   ],
   "source": [
    "joblib.dump(model_r, '20180403_model_svm_rgb_cheek.pkl')\n",
    "#joblib.dump(model_f, '20180403_model_svm_hsv_cheek.pkl')"
   ]
  },
  {
   "cell_type": "code",
   "execution_count": null,
   "metadata": {},
   "outputs": [],
   "source": [
    "raw = joblib.load('20180403_model_svm_rgb_cheek.pkl')\n",
    "hsv = joblib.load('20180403_model_svm_hsv_cheek.pkl')\n",
    "\n",
    "image = cv2.imread('acne/S__43925507.jpg')\n",
    "pixels = image_to_feature_vector(image)\n",
    "print(raw.predict(pixels.reshape(1, -1)))\n",
    "print(raw.predict_proba(pixels.reshape(1, -1)))\n",
    "\n",
    "hist = extract_color_histogram(image)\n",
    "print(hsv.predict(hist.reshape(1, -1)))\n",
    "print(hsv.predict_proba(hist.reshape(1, -1)))"
   ]
  }
 ],
 "metadata": {
  "kernelspec": {
   "display_name": "Python 3",
   "language": "python",
   "name": "python3"
  },
  "language_info": {
   "codemirror_mode": {
    "name": "ipython",
    "version": 3
   },
   "file_extension": ".py",
   "mimetype": "text/x-python",
   "name": "python",
   "nbconvert_exporter": "python",
   "pygments_lexer": "ipython3",
   "version": "3.6.4"
  }
 },
 "nbformat": 4,
 "nbformat_minor": 2
}
